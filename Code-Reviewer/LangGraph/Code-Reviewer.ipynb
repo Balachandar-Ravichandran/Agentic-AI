{
 "cells": [
  {
   "cell_type": "code",
   "execution_count": 124,
   "metadata": {},
   "outputs": [
    {
     "data": {
      "text/plain": [
       "True"
      ]
     },
     "execution_count": 124,
     "metadata": {},
     "output_type": "execute_result"
    }
   ],
   "source": [
    "import os\n",
    "from dotenv import load_dotenv\n",
    "load_dotenv()"
   ]
  },
  {
   "cell_type": "code",
   "execution_count": 125,
   "metadata": {},
   "outputs": [],
   "source": [
    "os.environ[\"GROQ_API_KEY\"]=os.getenv(\"GROQ_API_KEY\")\n",
    "# os.environ[\"OPENAI_API_KEY\"]=os.getenv(\"OPENAI_API_KEY\")\n",
    "# os.environ[\"xai_api_key\"]=os.getenv(\"X_AI\")\n"
   ]
  },
  {
   "cell_type": "code",
   "execution_count": 126,
   "metadata": {},
   "outputs": [],
   "source": [
    "from langchain_groq import ChatGroq\n",
    "from langchain_xai import ChatXAI\n",
    "from langchain_openai import ChatOpenAI\n",
    "\n",
    "llm=ChatGroq(model=\"qwen-2.5-32b\")\n",
    "#llm = ChatXAI(model=\"grok-2\")\n",
    "#llm=ChatOpenAI(model=\"gpt-4o\")"
   ]
  },
  {
   "cell_type": "code",
   "execution_count": 127,
   "metadata": {},
   "outputs": [],
   "source": [
    "from IPython.display import Image, display\n",
    "\n",
    "#from langgraph.checkpoint.memory import MemorySaver\n",
    "#from langgraph.graph import MessagesState\n",
    "from langgraph.graph import START, StateGraph,END\n",
    "#from langgraph.prebuilt import tools_condition, ToolNode\n",
    "\n",
    "from langchain_core.messages import AIMessage, HumanMessage, SystemMessage\n",
    "from typing_extensions import TypedDict\n",
    "from typing import TypedDict, Dict"
   ]
  },
  {
   "cell_type": "code",
   "execution_count": 128,
   "metadata": {},
   "outputs": [],
   "source": [
    "#OpenSource llm for code reviewer \n",
    "#Grog for reviewer\n",
    "#llm=ChatGroq(model=\"qwen-2.5-32b\")"
   ]
  },
  {
   "cell_type": "code",
   "execution_count": 129,
   "metadata": {},
   "outputs": [],
   "source": [
    "from typing import Annotated, List\n",
    "from pydantic import BaseModel, Field\n",
    "import operator\n",
    "\n",
    "\n",
    "# Schema for structured output to use in planning\n",
    "class AgentTask(BaseModel):\n",
    "    name: str = Field(\n",
    "        description=\"Type of code Agent to perform the code reviews.\",\n",
    "    )\n",
    "    description: str = Field(\n",
    "        description=\"Review the code based on the Agent name.\",\n",
    "    )\n",
    "\n",
    "\n",
    "class Reviews(BaseModel):\n",
    "    reviews: List[AgentTask] = Field(\n",
    "        description=\"List of review tasks.\",\n",
    "    )\n",
    "\n",
    "# Augment the LLM with schema for structured output\n",
    "planner = llm.with_structured_output(Reviews)"
   ]
  },
  {
   "cell_type": "code",
   "execution_count": 130,
   "metadata": {},
   "outputs": [],
   "source": [
    "class State(TypedDict, total=False):\n",
    "    objective: str\n",
    "    code: str\n",
    "    user_instructions: str\n",
    "    user_instructions_list: list[str]\n",
    "    objective_check: str\n",
    "    agent_tasks: list[AgentTask]\n",
    "    feedback_Generator: Annotated[\n",
    "        list, operator.add\n",
    "    ] \n",
    "    feedback_Collector: str\n",
    "    final_summary: str\n",
    "\n"
   ]
  },
  {
   "cell_type": "code",
   "execution_count": 131,
   "metadata": {},
   "outputs": [],
   "source": [
    "def get_user_input(state: State):\n",
    "    state[\"objective\"] = input(\"Please enter the Objective of the code to be reviewed: \")\n",
    "    user_instructions  = input(\"What types of code reviews do you want the agent to perform? (comma-separated) - (e.g., Syntax, Formatting, Code Quality, Security, Optimization, Best Practices & Design Pattern, etc.): \")\n",
    "    state[\"user_instructions\"] = [i.strip() for i in user_instructions .split(\",\")]\n",
    "    state[\"code\"] = input(\"Paste your code here: \")\n",
    "    print(user_instructions)\n",
    "    return state"
   ]
  },
  {
   "cell_type": "code",
   "execution_count": 132,
   "metadata": {},
   "outputs": [],
   "source": [
    "def validate_objective(state: State):\n",
    "    response = llm.invoke(\n",
    "        f\"Verify if code objective matches implementation:\\n\"\n",
    "        f\"Objective: {state['objective']}\\nCode:\\n{state['code']}\\n\"\n",
    "        \"Respond ONLY with 'True' or 'False'\"\n",
    "    )\n",
    "    state[\"objective_check\"] = response.content.strip().lower() == \"true\"\n",
    "    print(state[\"objective_check\"])\n",
    "    return state"
   ]
  },
  {
   "cell_type": "code",
   "execution_count": 133,
   "metadata": {},
   "outputs": [],
   "source": [
    "def route_based_on_validation(state: State):\n",
    "    print(state[\"objective_check\"])\n",
    "    return \"accepted\" if state[\"objective_check\"] else \"rejected\""
   ]
  },
  {
   "cell_type": "code",
   "execution_count": 134,
   "metadata": {},
   "outputs": [],
   "source": [
    "# Supervisor Node\n",
    "# def Master_Reviewer(state: State):\n",
    "#     \"\"\"Orchestrator that generates a plan for the reviews to be performed by the agents.\"\"\"\n",
    "#     Agent_Tasks = state[\"Agent_UserInstruction\"]\n",
    "#     return {\"Agent_Tasks\": {task: \"\" for task in Agent_Tasks}}\n",
    "\n",
    "def master_planner(state: State):\n",
    "    \"\"\"Orchestrator that generates a plan for the reviews to be performed by the agents.\"\"\"\n",
    "    # Generate queries\n",
    "    result = planner.invoke(\n",
    "        [\n",
    "            SystemMessage(content=\"Plan code review tasks based on user instructions.\"),\n",
    "             HumanMessage(content=f\"Review types: {state['user_instructions']}\")\n",
    "        ]\n",
    "    )\n",
    "    print(result)\n",
    "\n",
    "    state[\"agent_tasks\"] = result.reviews\n",
    "\n",
    "    return state"
   ]
  },
  {
   "cell_type": "code",
   "execution_count": 135,
   "metadata": {},
   "outputs": [],
   "source": [
    "# Worker state\n",
    "class WorkerState(TypedDict):\n",
    "    agenttask: AgentTask\n",
    "    feedback_Generator: Annotated[list, operator.add]"
   ]
  },
  {
   "cell_type": "code",
   "execution_count": 152,
   "metadata": {},
   "outputs": [],
   "source": [
    "#from langchain_core.runnables import RunnableConfig\n",
    "\n",
    "def execute_agent_review_task(state: State):\n",
    "    \"\"\"Execute all review tasks and store feedback with agent identifiers\"\"\"\n",
    "    agent_feedback = []\n",
    "    for task in state[\"agent_tasks\"]:\n",
    "        response = llm.invoke([\n",
    "            SystemMessage(content=f\"You are a {task.name} expert. Perform detailed code review.\"),\n",
    "            HumanMessage(content=f\"\"\"Task: {task.description}\n",
    "Code:\\n{state['code']}\"\"\")\n",
    "        ])\n",
    "        agent_feedback.append({\n",
    "            \"agent\": task.name,\n",
    "            \"feedback\": response.content\n",
    "        })\n",
    "    return {\"feedback_Generator\": agent_feedback}"
   ]
  },
  {
   "cell_type": "code",
   "execution_count": 153,
   "metadata": {},
   "outputs": [],
   "source": [
    "def synthesize_feedback(state: State):\n",
    "    \"\"\"Structure feedback with clear agent attribution\"\"\"\n",
    "    formatted_feedback = []\n",
    "    for entry in state[\"feedback_Generator\"]:\n",
    "        formatted_feedback.append(\n",
    "            f\"=== {entry['agent'].upper()} REVIEW ===\\n\"\n",
    "            f\"{entry['feedback']}\\n\"\n",
    "            f\"{'-'*40}\"\n",
    "        )\n",
    "    state[\"feedback_Collector\"] = \"\\n\\n\".join(formatted_feedback)\n",
    "    return state"
   ]
  },
  {
   "cell_type": "code",
   "execution_count": 163,
   "metadata": {},
   "outputs": [],
   "source": [
    "def generate_summary(state: State):\n",
    "    \"\"\"Generate both agent-specific and general summary\"\"\"\n",
    "    if not state[\"objective_check\"]:\n",
    "        state[\"final_summary\"] = \"❌ Objective mismatch between code and stated goals\"\n",
    "        return state\n",
    "    \n",
    "    # Generate general summary\n",
    "    general_summary = llm.invoke(f\"\"\"\n",
    "        Generate final code review summary with this structure:\n",
    "\n",
    "        1. OVERALL ASSESSMENT\n",
    "        2. KEY FINDINGS\n",
    "        3. RECOMMENDATIONS\n",
    "\n",
    "        Consider this context:\n",
    "        Objective: {state['objective']}\n",
    "        Code:\\n{state['code']}\n",
    "        Agent Feedback:\\n{state['feedback_Collector']}\n",
    "    \"\"\").content\n",
    "\n",
    "    # Combine agent feedback with general summary\n",
    "    state[\"final_summary\"] = (\n",
    "        \"🛠️ AGENT-SPECIFIC FEEDBACK 🛠️\\n\\n\"\n",
    "        f\"{state['feedback_Collector']}\\n\\n\"\n",
    "        \"🔍 GENERAL SUMMARY 🔍\\n\\n\"\n",
    "        f\"{general_summary}\"\n",
    "    )\n",
    "    return state"
   ]
  },
  {
   "cell_type": "code",
   "execution_count": 164,
   "metadata": {},
   "outputs": [],
   "source": [
    "# Graph construction\n",
    "workflow = StateGraph(State)\n",
    "\n",
    "# Add nodes\n",
    "workflow.add_node(\"get_input\", get_user_input)\n",
    "workflow.add_node(\"validate\", validate_objective)\n",
    "workflow.add_node(\"plan_tasks\", master_planner)\n",
    "workflow.add_node(\"synthesize\", synthesize_feedback)\n",
    "workflow.add_node(\"generate_summary\", generate_summary)\n",
    "\n",
    "# Set up edges\n",
    "workflow.set_entry_point(\"get_input\")\n",
    "workflow.add_edge(\"get_input\", \"validate\")\n",
    "\n",
    "# Conditional routing\n",
    "workflow.add_conditional_edges(\n",
    "    \"validate\",\n",
    "    route_based_on_validation,\n",
    "    {\"accepted\": \"plan_tasks\", \"rejected\": \"generate_summary\"}\n",
    ")\n",
    "\n",
    "# # Dynamic task execution\n",
    "# def create_task_nodes(state: State):\n",
    "#     return [{\"task\": task} for task in state[\"agent_tasks\"]]\n",
    "\n",
    "workflow.add_node(\"execute_task\", execute_agent_review_task)\n",
    "workflow.add_edge(\"plan_tasks\", \"execute_task\")\n",
    "workflow.add_edge(\"execute_task\", \"synthesize\")\n",
    "workflow.add_edge(\"synthesize\", \"generate_summary\")\n",
    "workflow.add_edge(\"generate_summary\", END)\n",
    "\n",
    "# Compile and run\n",
    "app = workflow.compile()"
   ]
  },
  {
   "cell_type": "code",
   "execution_count": 165,
   "metadata": {},
   "outputs": [
    {
     "data": {
      "image/png": "[encoded data removed]",
      "text/plain": [
       "<IPython.core.display.Image object>"
      ]
     },
     "metadata": {},
     "output_type": "display_data"
    }
   ],
   "source": [
    "from IPython.display import Image, display\n",
    "display(Image(app.get_graph().draw_mermaid_png()))"
   ]
  },
  {
   "cell_type": "code",
   "execution_count": 166,
   "metadata": {},
   "outputs": [
    {
     "name": "stdout",
     "output_type": "stream",
     "text": [
      "Syntax,Formating\n",
      "True\n",
      "True\n",
      "reviews=[AgentTask(name='Syntax', description='Check for syntax errors in the code.'), AgentTask(name='Formating', description='Ensure code adheres to style and formatting guidelines.')]\n"
     ]
    }
   ],
   "source": [
    "state = app.invoke({'objective':\"\", 'code':\"\"})"
   ]
  },
  {
   "cell_type": "code",
   "execution_count": 167,
   "metadata": {},
   "outputs": [
    {
     "name": "stdout",
     "output_type": "stream",
     "text": [
      "🛠️ AGENT-SPECIFIC FEEDBACK 🛠️\n",
      "\n",
      "=== SYNTAX REVIEW ===\n",
      "The SQL code provided for creating a table named `users` looks mostly correct, but there are a few syntax and best practice considerations to address:\n",
      "\n",
      "1. **Comma After Last Column Definition**: In SQL, it's a common mistake to include a comma after the last column definition. Although some database systems tolerate this, others may not. To ensure compatibility, remove the comma after the `created_at` column.\n",
      "2. **Data Type for `password_hash`**: Using `TEXT` for storing password hashes might be overkill depending on the hash algorithm used (e.g., SHA-256 produces a 64-character string). Consider using `VARCHAR` with a specific length that matches the expected size of the hash.\n",
      "3. **`CURRENT_TIMESTAMP` Usage**: Using `CURRENT_TIMESTAMP` as a default value is correct, but it is often better to explicitly use `CURRENT_TIMESTAMP` without parentheses unless you are using a specific version of SQL that requires parentheses (like MySQL 5.6.5 and later).\n",
      "\n",
      "Here is the revised version of the code with these considerations applied:\n",
      "\n",
      "```sql\n",
      "CREATE TABLE users (\n",
      "    id INT PRIMARY KEY,\n",
      "    username VARCHAR(50) NOT NULL,\n",
      "    email VARCHAR(100) UNIQUE NOT NULL,\n",
      "    password_hash VARCHAR(255) NOT NULL,  -- Adjusted data type for password_hash\n",
      "    created_at TIMESTAMP DEFAULT CURRENT_TIMESTAMP  -- Removed comma after last column definition\n",
      ");\n",
      "```\n",
      "\n",
      "This version of the code should be free of syntax errors and more robust in terms of data type usage.\n",
      "----------------------------------------\n",
      "\n",
      "=== FORMATING REVIEW ===\n",
      "To ensure the SQL code adheres to common style and formatting guidelines, we can make the following adjustments:\n",
      "\n",
      "1. **Capitalization of SQL Keywords**: SQL keywords should be in uppercase for clarity and readability.\n",
      "2. **Consistent Spacing**: Ensure consistent spacing around commas and after keywords.\n",
      "3. **Table and Column Descriptions**: Align column definitions vertically for better readability.\n",
      "4. **Ending Semicolon**: Add a semicolon at the end of the statement.\n",
      "\n",
      "Here is the revised version of the code:\n",
      "\n",
      "```sql\n",
      "CREATE TABLE users (\n",
      "    id INT PRIMARY KEY,\n",
      "    username VARCHAR(50) NOT NULL,\n",
      "    email VARCHAR(100) UNIQUE NOT NULL,\n",
      "    password_hash TEXT NOT NULL,\n",
      "    created_at TIMESTAMP DEFAULT CURRENT_TIMESTAMP\n",
      ");\n",
      "```\n",
      "\n",
      "### Detailed Review:\n",
      "- **Capitalization**: All SQL keywords (`CREATE`, `TABLE`, `INT`, `PRIMARY`, `KEY`, `VARCHAR`, `NOT`, `NULL`, `UNIQUE`, `TEXT`, `TIMESTAMP`, `DEFAULT`, `CURRENT_TIMESTAMP`) are now in uppercase.\n",
      "- **Spacing**: Proper spacing has been added after commas and after `DEFAULT` and `CURRENT_TIMESTAMP` to enhance readability.\n",
      "- **Semicolon**: A semicolon has been added at the end of the SQL statement to properly terminate it.\n",
      "\n",
      "These adjustments improve the readability and maintainability of the SQL code.\n",
      "----------------------------------------\n",
      "\n",
      "🔍 GENERAL SUMMARY 🔍\n",
      "\n",
      "### Final Code Review Summary\n",
      "\n",
      "**1. OVERALL ASSESSMENT**\n",
      "The provided SQL code for creating a `users` table is generally well-structured and meets the objective of creating a table to store user information. However, there are minor syntax and best practice considerations that need to be addressed to improve the code's compatibility, readability, and maintainability.\n",
      "\n",
      "**2. KEY FINDINGS**\n",
      "- **Syntax and Best Practices**: The original code includes a comma after the last column definition (`created_at`), which is unnecessary and may cause issues in certain SQL implementations. The data type for `password_hash` was originally `TEXT`, which could be optimized based on the expected size of the hash. The usage of `CURRENT_TIMESTAMP` was correct but could be adjusted for specific SQL versions.\n",
      "- **Formatting and Readability**: The SQL code did not follow standard capitalization, spacing, or alignment conventions for SQL keywords and column definitions. Additionally, no semicolon was present at the end of the SQL statement.\n",
      "\n",
      "**3. RECOMMENDATIONS**\n",
      "- **Adjust Data Types**: Change the data type of `password_hash` to `VARCHAR(255)` to more accurately reflect the size of the password hashes typically used.\n",
      "- **Remove Unnecessary Comma**: Eliminate the comma after the `created_at` column to ensure the SQL statement is syntactically correct across all SQL implementations.\n",
      "- **Follow SQL Conventions**: Capitalize SQL keywords, apply consistent spacing, and align column definitions for better readability.\n",
      "- **Add Semicolon**: Ensure the SQL statement is properly terminated with a semicolon for compatibility and clarity.\n",
      "\n",
      "**Revised SQL Code:**\n",
      "```sql\n",
      "CREATE TABLE users (\n",
      "    id INT PRIMARY KEY,\n",
      "    username VARCHAR(50) NOT NULL,\n",
      "    email VARCHAR(100) UNIQUE NOT NULL,\n",
      "    password_hash VARCHAR(255) NOT NULL,\n",
      "    created_at TIMESTAMP DEFAULT CURRENT_TIMESTAMP\n",
      ");\n",
      "```\n",
      "\n",
      "This revised version of the SQL code corrects the issues identified and adheres to best practices for both syntax and formatting.\n"
     ]
    }
   ],
   "source": [
    "print(state[\"final_summary\"])"
   ]
  },
  {
   "cell_type": "code",
   "execution_count": null,
   "metadata": {},
   "outputs": [],
   "source": []
  }
 ],
 "metadata": {
  "kernelspec": {
   "display_name": "Python 3",
   "language": "python",
   "name": "python3"
  },
  "language_info": {
   "codemirror_mode": {
    "name": "ipython",
    "version": 3
   },
   "file_extension": ".py",
   "mimetype": "text/x-python",
   "name": "python",
   "nbconvert_exporter": "python",
   "pygments_lexer": "ipython3",
   "version": "3.12.0"
  }
 },
 "nbformat": 4,
 "nbformat_minor": 2
}
