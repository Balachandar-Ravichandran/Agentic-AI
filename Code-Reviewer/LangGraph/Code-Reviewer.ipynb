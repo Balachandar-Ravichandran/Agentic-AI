{
 "cells": [
  {
   "cell_type": "code",
   "execution_count": 221,
   "metadata": {},
   "outputs": [
    {
     "data": {
      "text/plain": [
       "True"
      ]
     },
     "execution_count": 221,
     "metadata": {},
     "output_type": "execute_result"
    }
   ],
   "source": [
    "import os\n",
    "from dotenv import load_dotenv\n",
    "load_dotenv()"
   ]
  },
  {
   "cell_type": "code",
   "execution_count": 222,
   "metadata": {},
   "outputs": [],
   "source": [
    "os.environ[\"GROQ_API_KEY\"]=os.getenv(\"GROQ_API_KEY\")\n",
    "os.environ[\"OPENAI_API_KEY\"]=os.getenv(\"OPENAI_API_KEY\")\n",
    "os.environ[\"xai_api_key\"]=os.getenv(\"X_AI\")\n"
   ]
  },
  {
   "cell_type": "code",
   "execution_count": 223,
   "metadata": {},
   "outputs": [],
   "source": [
    "from langchain_groq import ChatGroq\n",
    "from langchain_xai import ChatXAI\n",
    "from langchain_openai import ChatOpenAI\n",
    "\n",
    "llm=ChatGroq(model=\"qwen-2.5-32b\")\n",
    "#llm = ChatXAI(model=\"grok-2\")\n",
    "#llm=ChatOpenAI(model=\"gpt-4o\")"
   ]
  },
  {
   "cell_type": "code",
   "execution_count": 224,
   "metadata": {},
   "outputs": [],
   "source": [
    "from IPython.display import Image, display\n",
    "\n",
    "from langgraph.checkpoint.memory import MemorySaver\n",
    "from langgraph.graph import MessagesState\n",
    "from langgraph.graph import START, StateGraph,END\n",
    "from langgraph.prebuilt import tools_condition, ToolNode\n",
    "\n",
    "from langchain_core.messages import AIMessage, HumanMessage, SystemMessage\n",
    "from typing_extensions import TypedDict"
   ]
  },
  {
   "cell_type": "code",
   "execution_count": null,
   "metadata": {},
   "outputs": [],
   "source": [
    "#OpenSource llm for code reviewer \n",
    "#Grog for reviewer\n",
    "#llm=ChatGroq(model=\"qwen-2.5-32b\")"
   ]
  },
  {
   "cell_type": "code",
   "execution_count": null,
   "metadata": {},
   "outputs": [],
   "source": [
    "class State(TypedDict, total=False):\n",
    "    Objective_of_Code: str\n",
    "    Code: str\n",
    "    Agent_UserInstruction: str\n",
    "    Objective_Check: str\n",
    "    # Code_Standard_Checker: str\n",
    "    # Code_Optimizer: str\n",
    "    Feedback_Generator: str\n",
    "    Summary: str\n",
    "    # Code_Generator: str\n",
    "    # Review_Report_Generator_Node: str"
   ]
  },
  {
   "cell_type": "code",
   "execution_count": 238,
   "metadata": {},
   "outputs": [],
   "source": [
    "def get_user_input(state: State):\n",
    "    Objective_of_Code = input(\"Please enter the Objective of the code to be reviewed: \")\n",
    "    Agent_UserInstruction = input(\"What Types of Code Reviews you want the Agent to perform, can choose mulitple option (e.g., Syntax,Formatting,Code Quality,Security,Optimization,Best Practices & Design Pattern etc. ): \")\n",
    "    Code = input(\"Please enter the code that needs to be reviewed: \")\n",
    "    # print(\"Objective: \", ObjectiveCode_UserInstruction)\n",
    "    # print(\"Agent Task: \", Agent_UserInstruction)\n",
    "    # print(\"Code: \", Code_Issue_Identifier)\n",
    "    return {\"Objective_of_Code\": Objective_of_Code, \"Agent_UserInstruction\": Agent_UserInstruction, \"Code\": Code}"
   ]
  },
  {
   "cell_type": "code",
   "execution_count": 239,
   "metadata": {},
   "outputs": [],
   "source": [
    "def Objective_checker(state: State):\n",
    "    \"\"\" Validate the Objective and the intend (Logic) of the code matches \"\"\"\n",
    "    Objective = state[\"Objective_of_Code\"]\n",
    "    Code = state[\"Code\"]\n",
    "    msg = llm.invoke(\n",
    "        f\"Validate if '{Objective}' and the intend (Logic) of the {Code} Matches. \"\n",
    "        f\"Respond ONLY with 'True' (if intend Matches fully or Partially) or 'False' (if it is not Matching). Do not include any extra words.\"\n",
    "    )\n",
    "    is_valid = msg.content.strip().lower() == \"true\"\n",
    "    return {\"Objective_Check\": is_valid}"
   ]
  },
  {
   "cell_type": "code",
   "execution_count": 255,
   "metadata": {},
   "outputs": [],
   "source": [
    "def route_input(state: State):\n",
    "    \"\"\"\n",
    "    Route the input to the appropriate tool based on the input status\"\"\"\n",
    "\n",
    "    if state[\"Objective_Check\"] == True:\n",
    "        print(\"Accepted\")\n",
    "        return \"Accepted\"\n",
    "    elif state[\"Objective_Check\"] == False:\n",
    "        print(\"Rejected\")\n",
    "        return \"Rejected\""
   ]
  },
  {
   "cell_type": "code",
   "execution_count": 256,
   "metadata": {},
   "outputs": [],
   "source": [
    "def Code_review(state: State):\n",
    "    \"\"\" Review teh code based on the input by user\"\"\"\n",
    "    Code = state[\"Code\"]\n",
    "    Agent_Task = state[\"Agent_UserInstruction\"]\n",
    "    review = llm.invoke(\n",
    "        f'Based on the Type of Code Reviewer mentioned in {Agent_Task} review the code {Code} provide the feedback very briefly and concisely:'\n",
    "        f'You should perform only the Type of Code Review mentioned in {Agent_Task} :'\n",
    "        f'example if user request to perform \"Syntax\" reviewer in {Agent_Task} - Check for Syntax and provide the feedback accordinly :'\n",
    "        f'example if user request to perform \"Code Quality\" reviewer in {Agent_Task} - check for Code Quality  and provide the feedback accordinly :'\n",
    "                        )\n",
    "    return {\"Feedback_Generator\": review.content}"
   ]
  },
  {
   "cell_type": "code",
   "execution_count": 257,
   "metadata": {},
   "outputs": [],
   "source": [
    "def Summary_Generator(state: State):\n",
    "    Objective = state[\"Objective_of_Code\"]\n",
    "    Code = state[\"Code\"]\n",
    "    Agent_Task = state[\"Agent_UserInstruction\"]\n",
    "    Feedback = state[\"Feedback_Generator\"]\n",
    "    Objective_Check = state[\"Objective_Check\"]\n",
    "    \n",
    "    \n",
    "    msg = llm.invoke(\n",
    "        f\"your task is to summarize the feedback provided by code reviewer,based on {Objective_Check} status and {Feedback} feedback \"\n",
    "        f\"if the {Objective_Check} is False then provide the feedback as 'Code intend in {Code} and Objective in {Objective} is not matched' \"\n",
    "        f\"if the {Objective_Check} is True then provide the feedback based on {Feedback} \"\n",
    "        f\"Be specific, brief and highlight only the mistakes when required, display the Objective {Objective} , and what was asked you to perforam {Agent_Task} and your Summary\"\n",
    "    )\n",
    "    return {\"Summary\": msg.content}"
   ]
  },
  {
   "cell_type": "code",
   "execution_count": 258,
   "metadata": {},
   "outputs": [],
   "source": [
    "# Graph\n",
    "Codebuilder = StateGraph(State)"
   ]
  },
  {
   "cell_type": "code",
   "execution_count": 259,
   "metadata": {},
   "outputs": [],
   "source": [
    "Codebuilder.add_node(\"get_user_input\",get_user_input)\n",
    "Codebuilder.add_node(\"Objective_checker\",Objective_checker)\n",
    "Codebuilder.add_node(\"Code_review\",Code_review)\n",
    "Codebuilder.add_node(\"Summary_Generator\",Summary_Generator)\n",
    "\n",
    "\n",
    "Codebuilder.add_edge(START, \"get_user_input\")\n",
    "Codebuilder.add_edge(\"get_user_input\", \"Objective_checker\")\n",
    "#Codebuilder.add_edge(\"get_user_input\",\"Code_review\")\n",
    "Codebuilder.add_edge(\"Code_review\",\"Summary_Generator\")\n",
    "Codebuilder.add_edge(\"Summary_Generator\", END)\n",
    "\n",
    "Codebuilder.add_conditional_edges(\n",
    "    \"Objective_checker\",\n",
    "    route_input,\n",
    "    {\n",
    "        \"Accepted\": \"Code_review\",\n",
    "        \"Rejected\": \"Summary_Generator\"\n",
    "    }\n",
    ")\n",
    "\n",
    "graph = Codebuilder.compile()"
   ]
  },
  {
   "cell_type": "code",
   "execution_count": 260,
   "metadata": {},
   "outputs": [
    {
     "data": {
      "image/png": "[encoded data removed]",
      "text/plain": [
       "<IPython.core.display.Image object>"
      ]
     },
     "metadata": {},
     "output_type": "display_data"
    }
   ],
   "source": [
    "from IPython.display import Image, display\n",
    "display(Image(graph.get_graph().draw_mermaid_png()))"
   ]
  },
  {
   "cell_type": "code",
   "execution_count": 267,
   "metadata": {},
   "outputs": [
    {
     "name": "stdout",
     "output_type": "stream",
     "text": [
      "Accepted\n"
     ]
    }
   ],
   "source": [
    "state = graph.invoke({\"ObjectiveCode_UserInstruction\": \"\",\"Code\": \"\",\"Agent_UserInstruction\": \"\",\"Feedback_Generator\": \"\", \"Summary\": \"\",\"Objective_Check\": \"\"}) "
   ]
  },
  {
   "cell_type": "code",
   "execution_count": 268,
   "metadata": {},
   "outputs": [
    {
     "data": {
      "text/plain": [
       "{'Objective_of_Code': 'Create the table',\n",
       " 'Code': 'CREATE TL users (     id INT PRIMARY KEY,     username VARCHAR(50) NOT NULL,     email VARCHAR(100) UNIQUE NOT NULL,     password_hash TEXT NOT NULL,     created_at TIMESTAMP DEFAULT CURRENT_TIMESTAMP',\n",
       " 'Agent_UserInstruction': 'Syntax',\n",
       " 'Objective_Check': True,\n",
       " 'Feedback_Generator': '**Syntax Review Feedback:**\\n\\n- Missing closing parenthesis `)` after `DEFAULT CURRENT_TIMESTAMP`.\\n- Consider adding a comma after `DEFAULT CURRENT_TIMESTAMP`.\\n\\nCorrected query:\\n```sql\\nCREATE TABLE TL_users (\\n    id INT PRIMARY KEY,\\n    username VARCHAR(50) NOT NULL,\\n    email VARCHAR(100) UNIQUE NOT NULL,\\n    password_hash TEXT NOT NULL,\\n    created_at TIMESTAMP DEFAULT CURRENT_TIMESTAMP\\n);\\n```',\n",
       " 'Summary': '**Objective:** Create the table\\n\\n**Task Performed:** Syntax Review\\n\\n**Summary:**\\n- **Mistakes Identified:**\\n  - Missing closing parenthesis `)` after `DEFAULT CURRENT_TIMESTAMP`.\\n  - Consider adding a comma after `DEFAULT CURRENT_TIMESTAMP`.\\n\\n- **Corrected Query:**\\n  ```sql\\n  CREATE TABLE TL_users (\\n      id INT PRIMARY KEY,\\n      username VARCHAR(50) NOT NULL,\\n      email VARCHAR(100) UNIQUE NOT NULL,\\n      password_hash TEXT NOT NULL,\\n      created_at TIMESTAMP DEFAULT CURRENT_TIMESTAMP\\n  );\\n  ```'}"
      ]
     },
     "execution_count": 268,
     "metadata": {},
     "output_type": "execute_result"
    }
   ],
   "source": [
    "state"
   ]
  },
  {
   "cell_type": "code",
   "execution_count": 269,
   "metadata": {},
   "outputs": [
    {
     "data": {
      "text/markdown": [
       "**Objective:** Create the table\n",
       "\n",
       "**Task Performed:** Syntax Review\n",
       "\n",
       "**Summary:**\n",
       "- **Mistakes Identified:**\n",
       "  - Missing closing parenthesis `)` after `DEFAULT CURRENT_TIMESTAMP`.\n",
       "  - Consider adding a comma after `DEFAULT CURRENT_TIMESTAMP`.\n",
       "\n",
       "- **Corrected Query:**\n",
       "  ```sql\n",
       "  CREATE TABLE TL_users (\n",
       "      id INT PRIMARY KEY,\n",
       "      username VARCHAR(50) NOT NULL,\n",
       "      email VARCHAR(100) UNIQUE NOT NULL,\n",
       "      password_hash TEXT NOT NULL,\n",
       "      created_at TIMESTAMP DEFAULT CURRENT_TIMESTAMP\n",
       "  );\n",
       "  ```"
      ],
      "text/plain": [
       "<IPython.core.display.Markdown object>"
      ]
     },
     "execution_count": 269,
     "metadata": {},
     "output_type": "execute_result"
    }
   ],
   "source": [
    "from IPython.display import Markdown\n",
    "Markdown(state ['Summary'])"
   ]
  },
  {
   "cell_type": "code",
   "execution_count": null,
   "metadata": {},
   "outputs": [],
   "source": []
  }
 ],
 "metadata": {
  "kernelspec": {
   "display_name": "Python 3",
   "language": "python",
   "name": "python3"
  },
  "language_info": {
   "codemirror_mode": {
    "name": "ipython",
    "version": 3
   },
   "file_extension": ".py",
   "mimetype": "text/x-python",
   "name": "python",
   "nbconvert_exporter": "python",
   "pygments_lexer": "ipython3",
   "version": "3.12.0"
  }
 },
 "nbformat": 4,
 "nbformat_minor": 2
}
