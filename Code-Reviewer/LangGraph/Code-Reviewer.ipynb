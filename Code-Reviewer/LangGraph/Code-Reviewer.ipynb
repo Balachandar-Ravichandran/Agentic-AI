{
 "cells": [
  {
   "cell_type": "code",
   "execution_count": 7,
   "metadata": {},
   "outputs": [
    {
     "data": {
      "text/plain": [
       "True"
      ]
     },
     "execution_count": 7,
     "metadata": {},
     "output_type": "execute_result"
    }
   ],
   "source": [
    "import os\n",
    "from dotenv import load_dotenv\n",
    "load_dotenv()"
   ]
  },
  {
   "cell_type": "code",
   "execution_count": 209,
   "metadata": {},
   "outputs": [],
   "source": [
    "os.environ[\"GROQ_API_KEY\"]=os.getenv(\"GROQ_API_KEY\")\n",
    "os.environ[\"OPENAI_API_KEY\"]=os.getenv(\"OPENAI_API_KEY\")\n",
    "os.environ[\"xai_api_key\"]=os.getenv(\"X_AI\")\n"
   ]
  },
  {
   "cell_type": "code",
   "execution_count": 210,
   "metadata": {},
   "outputs": [],
   "source": [
    "from langchain_groq import ChatGroq\n",
    "from langchain_xai import ChatXAI\n",
    "from langchain_openai import ChatOpenAI\n",
    "\n",
    "#llm=ChatGroq(model=\"qwen-2.5-32b\")\n",
    "llm = ChatXAI(model=\"grok-2\")\n",
    "#llm=ChatOpenAI(model=\"gpt-4o\")"
   ]
  },
  {
   "cell_type": "code",
   "execution_count": 190,
   "metadata": {},
   "outputs": [],
   "source": [
    "from IPython.display import Image, display\n",
    "\n",
    "from langgraph.checkpoint.memory import MemorySaver\n",
    "from langgraph.graph import MessagesState\n",
    "from langgraph.graph import START, StateGraph,END\n",
    "from langgraph.prebuilt import tools_condition, ToolNode\n",
    "\n",
    "from langchain_core.messages import AIMessage, HumanMessage, SystemMessage\n",
    "from typing_extensions import TypedDict"
   ]
  },
  {
   "cell_type": "code",
   "execution_count": null,
   "metadata": {},
   "outputs": [],
   "source": [
    "#OpenSource llm for code reviewer \n",
    "#Grog for reviewer\n",
    "#llm=ChatGroq(model=\"qwen-2.5-32b\")"
   ]
  },
  {
   "cell_type": "code",
   "execution_count": 191,
   "metadata": {},
   "outputs": [],
   "source": [
    "class State(TypedDict, total=False):\n",
    "    ObjectiveCode_UserInstruction: str\n",
    "    Code: str\n",
    "    Agent_UserInstruction: str \n",
    "    # Code_Standard_Checker: str\n",
    "    # Code_Optimizer: str\n",
    "    Feedback_Generator: str\n",
    "    Summary: str\n",
    "    # Code_Generator: str\n",
    "    # Review_Report_Generator_Node: str"
   ]
  },
  {
   "cell_type": "code",
   "execution_count": 211,
   "metadata": {},
   "outputs": [],
   "source": [
    "def get_user_input(state: State):\n",
    "    ObjectiveCode_UserInstruction = input(\"Please enter the Objective of the code to be reviewed: \")\n",
    "    Agent_UserInstruction = input(\"What Types of Code Reviews you want the Agent to perform, can choose mulitple option (e.g., Syntax,Formatting,Code Quality,Security,Optimization,Best Practices & Design Pattern etc. ): \")\n",
    "    Code = input(\"Please enter the code that needs to be reviewed: \")\n",
    "    print(\"Objective: \", ObjectiveCode_UserInstruction)\n",
    "    # print(\"Agent Task: \", Agent_UserInstruction)\n",
    "    # print(\"Code: \", Code_Issue_Identifier)\n",
    "    return {\"ObjectiveCode_UserInstruction\": ObjectiveCode_UserInstruction, \"Agent_UserInstruction\": Agent_UserInstruction, \"Code\": Code}"
   ]
  },
  {
   "cell_type": "code",
   "execution_count": 212,
   "metadata": {},
   "outputs": [],
   "source": [
    "def Code_review(state: State):\n",
    "    \"\"\" Review teh code based on the input by user\"\"\"\n",
    "    Objective = state[\"ObjectiveCode_UserInstruction\"]\n",
    "    Code = state[\"Code\"]\n",
    "    Agent_Task = state[\"Agent_UserInstruction\"]\n",
    "    review = llm.invoke(\n",
    "        f\" Review the code {Code} for {Objective} and review based on the Type of Code Review mentioned in {Agent_Task} and provide the feedback\"\n",
    "        f\" Be strict Reviewer, if the code {Code} and {Objective} are not match mention accordingly\"\n",
    "        f\" You should perform only the Type of Code Review mentioned in {Agent_Task} :\"\n",
    "        f'example if to perform Syntaxt review perform syntax reviewer and provide the feedback accordinly :'\n",
    "        f'example if to perform Syntaxt review perform syntax reviewer and provide the feedback accordinly :'\n",
    "                        )\n",
    "    return {\"Feedback_Generator\": review.content}"
   ]
  },
  {
   "cell_type": "code",
   "execution_count": 213,
   "metadata": {},
   "outputs": [],
   "source": [
    "def Summary_Generator(state: State):\n",
    "    Objective = state[\"ObjectiveCode_UserInstruction\"]\n",
    "    Agent_Task = state[\"Agent_UserInstruction\"]\n",
    "    msg = llm.invoke(\n",
    "        f\"your task is to summarize the feedback provided by code reviewer,based on  {state['Feedback_Generator']}\"\n",
    "        f\" be specific, brief and highlight only the mistakes when required, display the Objective {Objective} , and what was asked you to perforam {Agent_Task} and your Summary\"\n",
    "    )\n",
    "    return {\"Summary\": msg.content}"
   ]
  },
  {
   "cell_type": "code",
   "execution_count": 214,
   "metadata": {},
   "outputs": [],
   "source": [
    "# Graph\n",
    "Codebuilder = StateGraph(State)\n",
    "\n"
   ]
  },
  {
   "cell_type": "code",
   "execution_count": 215,
   "metadata": {},
   "outputs": [],
   "source": [
    "Codebuilder.add_node(\"get_user_input\",get_user_input)\n",
    "Codebuilder.add_node(\"Code_review\",Code_review)\n",
    "Codebuilder.add_node(\"Summary_Generator\",Summary_Generator)\n",
    "\n",
    "\n",
    "Codebuilder.add_edge(START, \"get_user_input\")\n",
    "Codebuilder.add_edge(\"get_user_input\",\"Code_review\")\n",
    "Codebuilder.add_edge(\"Code_review\",\"Summary_Generator\")\n",
    "Codebuilder.add_edge(\"Summary_Generator\", END)\n",
    "\n",
    "graph = Codebuilder.compile()"
   ]
  },
  {
   "cell_type": "code",
   "execution_count": 216,
   "metadata": {},
   "outputs": [
    {
     "data": {
      "image/png": "[encoded data removed]",
      "text/plain": [
       "<IPython.core.display.Image object>"
      ]
     },
     "metadata": {},
     "output_type": "display_data"
    }
   ],
   "source": [
    "from IPython.display import Image, display\n",
    "display(Image(graph.get_graph().draw_mermaid_png()))"
   ]
  },
  {
   "cell_type": "code",
   "execution_count": 217,
   "metadata": {},
   "outputs": [
    {
     "name": "stdout",
     "output_type": "stream",
     "text": [
      "Objective:  Insert the table\n"
     ]
    }
   ],
   "source": [
    "state = graph.invoke({\"ObjectiveCode_UserInstruction\": \"\",\"Code\": \"\",\"Agent_UserInstruction\": \"\",\"Feedback_Generator\": \"\", \"Summary\": \"\"}) "
   ]
  },
  {
   "cell_type": "code",
   "execution_count": 218,
   "metadata": {},
   "outputs": [
    {
     "data": {
      "text/plain": [
       "{'ObjectiveCode_UserInstruction': 'Insert the table',\n",
       " 'Code': 'CREATE TABLE  (     id INT PRIMARY KEY,     username VARCHAR(50) NOT NULL,     email VARCHAR(100) UNIQUE NOT NULL,     password_hash TEXT NOT NULL,     created_at TIMESTAMP DEFAULT CURRENT_TIMESTAMP );',\n",
       " 'Agent_UserInstruction': 'Syntax',\n",
       " 'Feedback_Generator': \"To perform a code review based on the provided instructions, I'll conduct a syntax review of the given SQL code. Here's the review:\\n\\n**Syntax Review:**\\n\\nThe provided SQL code is for creating a table. Let's examine it step-by-step:\\n\\n```sql\\nCREATE TABLE  (\\n    id INT PRIMARY KEY,\\n    username VARCHAR(50) NOT NULL,\\n    email VARCHAR(100) UNIQUE NOT NULL,\\n    password_hash TEXT NOT NULL,\\n    created_at TIMESTAMP DEFAULT CURRENT_TIMESTAMP\\n);\\n```\\n\\n1. **CREATE TABLE Statement:**\\n   - The `CREATE TABLE` statement is correct.\\n   - However, there's a missing table name immediately after `CREATE TABLE`. This is a syntax error. The correct syntax should be `CREATE TABLE table_name (...)`. For example: `CREATE TABLE users (...)`\\n\\n2. **Column Definitions:**\\n   - `id INT PRIMARY KEY`: Correct syntax for defining a primary key.\\n   - `username VARCHAR(50) NOT NULL`: Correct syntax for a non-nullable varchar column.\\n   - `email VARCHAR(100) UNIQUE NOT NULL`: Correct syntax for a unique, non-nullable varchar column.\\n   - `password_hash TEXT NOT NULL`: Correct syntax for a non-nullable text column.\\n   - `created_at TIMESTAMP DEFAULT CURRENT_TIMESTAMP`: Correct syntax for a timestamp column with a default value.\\n\\n3. **General Syntax:**\\n   - The overall structure of the column definitions is correct.\\n   - The statement is terminated with a semicolon, which is correct.\\n\\n4. **Additional Notes:**\\n   - The code doesn't include any INSERT statements as mentioned in the instructions. The review is focused solely on the CREATE TABLE statement provided.\\n\\n**Feedback:**\\n\\n1. **Critical Error:** The most significant issue is the missing table name after `CREATE TABLE`. This is a syntax error that will prevent the table from being created. To fix this, add a table name, e.g., `CREATE TABLE users (...)`\\n\\n2. **Consistency:** The code is consistent in its use of data types and constraints. All required fields are marked as NOT NULL, which is good practice.\\n\\n3. **Security:** Storing passwords as `password_hash` is a good practice, but ensure you're using a strong hashing algorithm like bcrypt or Argon2.\\n\\n4. **Improvement Suggestion:** Consider adding an index on the `email` column if it will be frequently used in queries, even though it's already marked as UNIQUE.\\n\\n5. **Missing INSERT Statement:** The instructions mentioned reviewing an INSERT statement, but no such statement was provided. If you intended to include an INSERT statement, please provide it for review.\\n\\nIn conclusion, while the column definitions and constraints are correctly implemented, the missing table name in the CREATE TABLE statement is a critical error that needs to be addressed before this SQL can be executed successfully.\",\n",
       " 'Summary': '**Objective:**\\nInsert the table.\\n\\n**Task Performed:**\\nSyntax review of the provided SQL code.\\n\\n**Summary of Feedback:**\\n\\n1. **Critical Error:** Missing table name after `CREATE TABLE`. Correct syntax should be `CREATE TABLE table_name (...)`, e.g., `CREATE TABLE users (...)`\\n\\n2. **Missing INSERT Statement:** No INSERT statement was provided for review as mentioned in the instructions.'}"
      ]
     },
     "execution_count": 218,
     "metadata": {},
     "output_type": "execute_result"
    }
   ],
   "source": [
    "state"
   ]
  },
  {
   "cell_type": "code",
   "execution_count": 219,
   "metadata": {},
   "outputs": [
    {
     "data": {
      "text/markdown": [
       "To perform a code review based on the provided instructions, I'll conduct a syntax review of the given SQL code. Here's the review:\n",
       "\n",
       "**Syntax Review:**\n",
       "\n",
       "The provided SQL code is for creating a table. Let's examine it step-by-step:\n",
       "\n",
       "```sql\n",
       "CREATE TABLE  (\n",
       "    id INT PRIMARY KEY,\n",
       "    username VARCHAR(50) NOT NULL,\n",
       "    email VARCHAR(100) UNIQUE NOT NULL,\n",
       "    password_hash TEXT NOT NULL,\n",
       "    created_at TIMESTAMP DEFAULT CURRENT_TIMESTAMP\n",
       ");\n",
       "```\n",
       "\n",
       "1. **CREATE TABLE Statement:**\n",
       "   - The `CREATE TABLE` statement is correct.\n",
       "   - However, there's a missing table name immediately after `CREATE TABLE`. This is a syntax error. The correct syntax should be `CREATE TABLE table_name (...)`. For example: `CREATE TABLE users (...)`\n",
       "\n",
       "2. **Column Definitions:**\n",
       "   - `id INT PRIMARY KEY`: Correct syntax for defining a primary key.\n",
       "   - `username VARCHAR(50) NOT NULL`: Correct syntax for a non-nullable varchar column.\n",
       "   - `email VARCHAR(100) UNIQUE NOT NULL`: Correct syntax for a unique, non-nullable varchar column.\n",
       "   - `password_hash TEXT NOT NULL`: Correct syntax for a non-nullable text column.\n",
       "   - `created_at TIMESTAMP DEFAULT CURRENT_TIMESTAMP`: Correct syntax for a timestamp column with a default value.\n",
       "\n",
       "3. **General Syntax:**\n",
       "   - The overall structure of the column definitions is correct.\n",
       "   - The statement is terminated with a semicolon, which is correct.\n",
       "\n",
       "4. **Additional Notes:**\n",
       "   - The code doesn't include any INSERT statements as mentioned in the instructions. The review is focused solely on the CREATE TABLE statement provided.\n",
       "\n",
       "**Feedback:**\n",
       "\n",
       "1. **Critical Error:** The most significant issue is the missing table name after `CREATE TABLE`. This is a syntax error that will prevent the table from being created. To fix this, add a table name, e.g., `CREATE TABLE users (...)`\n",
       "\n",
       "2. **Consistency:** The code is consistent in its use of data types and constraints. All required fields are marked as NOT NULL, which is good practice.\n",
       "\n",
       "3. **Security:** Storing passwords as `password_hash` is a good practice, but ensure you're using a strong hashing algorithm like bcrypt or Argon2.\n",
       "\n",
       "4. **Improvement Suggestion:** Consider adding an index on the `email` column if it will be frequently used in queries, even though it's already marked as UNIQUE.\n",
       "\n",
       "5. **Missing INSERT Statement:** The instructions mentioned reviewing an INSERT statement, but no such statement was provided. If you intended to include an INSERT statement, please provide it for review.\n",
       "\n",
       "In conclusion, while the column definitions and constraints are correctly implemented, the missing table name in the CREATE TABLE statement is a critical error that needs to be addressed before this SQL can be executed successfully."
      ],
      "text/plain": [
       "<IPython.core.display.Markdown object>"
      ]
     },
     "execution_count": 219,
     "metadata": {},
     "output_type": "execute_result"
    }
   ],
   "source": [
    "from IPython.display import Markdown\n",
    "Markdown(state ['Feedback_Generator'])"
   ]
  },
  {
   "cell_type": "code",
   "execution_count": null,
   "metadata": {},
   "outputs": [],
   "source": []
  }
 ],
 "metadata": {
  "kernelspec": {
   "display_name": "Python 3",
   "language": "python",
   "name": "python3"
  },
  "language_info": {
   "codemirror_mode": {
    "name": "ipython",
    "version": 3
   },
   "file_extension": ".py",
   "mimetype": "text/x-python",
   "name": "python",
   "nbconvert_exporter": "python",
   "pygments_lexer": "ipython3",
   "version": "3.12.0"
  }
 },
 "nbformat": 4,
 "nbformat_minor": 2
}
