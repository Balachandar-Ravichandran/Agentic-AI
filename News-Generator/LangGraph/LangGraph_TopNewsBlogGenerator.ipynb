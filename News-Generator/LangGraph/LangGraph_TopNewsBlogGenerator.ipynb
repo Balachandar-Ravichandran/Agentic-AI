{
 "cells": [
  {
   "cell_type": "code",
   "execution_count": 1,
   "metadata": {},
   "outputs": [
    {
     "data": {
      "text/plain": [
       "True"
      ]
     },
     "execution_count": 1,
     "metadata": {},
     "output_type": "execute_result"
    }
   ],
   "source": [
    "import os\n",
    "from dotenv import load_dotenv\n",
    "load_dotenv()"
   ]
  },
  {
   "cell_type": "code",
   "execution_count": 2,
   "metadata": {},
   "outputs": [],
   "source": [
    "os.environ[\"xai_api_key\"]=os.getenv(\"X_AI\")\n",
    "os.environ[\"GROQ_API_KEY\"]=os.getenv(\"GROQ_API_KEY\")\n"
   ]
  },
  {
   "cell_type": "code",
   "execution_count": 3,
   "metadata": {},
   "outputs": [],
   "source": [
    "from langchain_xai import ChatXAI\n",
    "from langchain_groq import ChatGroq"
   ]
  },
  {
   "cell_type": "code",
   "execution_count": 4,
   "metadata": {},
   "outputs": [],
   "source": [
    "#XAI for News\n",
    "News_llm = ChatXAI(model=\"grok-2\")\n",
    "\n",
    "#OpenSource llm for Summary generator\n",
    "#Grog for Summary generator & Validate the User input\n",
    "llm=ChatGroq(model=\"qwen-2.5-32b\")\n",
    "\n"
   ]
  },
  {
   "cell_type": "code",
   "execution_count": 5,
   "metadata": {},
   "outputs": [],
   "source": [
    "from IPython.display import Image, display\n",
    "\n",
    "from langgraph.checkpoint.memory import MemorySaver\n",
    "from langgraph.graph import MessagesState\n",
    "from langgraph.graph import START, StateGraph,END\n",
    "from langgraph.prebuilt import tools_condition, ToolNode\n",
    "\n",
    "from langchain_core.messages import AIMessage, HumanMessage, SystemMessage\n",
    "from typing_extensions import TypedDict"
   ]
  },
  {
   "cell_type": "code",
   "execution_count": 6,
   "metadata": {},
   "outputs": [],
   "source": [
    "# System message\n",
    "sys_msg = SystemMessage(content=\"You News Blog/Article Generator assistance - help with Top 5 news for requested Country/Area\")"
   ]
  },
  {
   "cell_type": "code",
   "execution_count": 7,
   "metadata": {},
   "outputs": [],
   "source": [
    "# Graph state\n",
    "class State(TypedDict, total=False):\n",
    "    country: str\n",
    "    news_column: str\n",
    "    input_status: str\n",
    "    news: str\n",
    "    summary_news: str\n"
   ]
  },
  {
   "cell_type": "code",
   "execution_count": 8,
   "metadata": {},
   "outputs": [],
   "source": [
    "## get user input\n",
    "def get_user_input(state: State):\n",
    "    country = input(\"Please enter the Country/Area for which you want to get the news: \")\n",
    "    column_name = input(\"Please enter the news column (e.g., Politics, Sports, Business): \")\n",
    "    print(\"Country/Area: \", country)\n",
    "    print(\"News Column: \", column_name)\n",
    "    return {\"country\": country, \"news_column\": column_name}"
   ]
  },
  {
   "cell_type": "code",
   "execution_count": 9,
   "metadata": {},
   "outputs": [],
   "source": [
    "def get_news(state: State):\n",
    "    \"\"\"\n",
    "    Get news from the News LLM\n",
    "    \"\"\"\n",
    "    # Get the country from the state\n",
    "    country = state[\"country\"]\n",
    "    # Get the column name from the state\n",
    "    column = state[\"news_column\"]\n",
    "    # Get the news from the News LLM\n",
    "    msg = News_llm.invoke(f\"Get me Top 5 news for {country} news for {column},  check for factual and should not be baised/Sensitve news\")\n",
    "    # Return the news\n",
    "    return {\"news\": msg.content}\n",
    "\n",
    "def get_summary(state: State):\n",
    "    msg = llm.invoke(f\"Summarize the news and have the headings/ Topics along with summary: {state['news']}\")\n",
    "    return {\"summary_news\": msg.content}  # Use lowercase \"summary_news\"\n",
    "\n"
   ]
  },
  {
   "cell_type": "code",
   "execution_count": 10,
   "metadata": {},
   "outputs": [],
   "source": [
    "\n",
    "def validate_user_input(state: State):\n",
    "    \"\"\"\n",
    "    Check if the user input is valid\n",
    "    \"\"\"\n",
    "    # Get the country & column from the state and validate it using Groq llm\n",
    "    country = state[\"country\"]\n",
    "    column_name = state[\"news_column\"]\n",
    "    \n",
    "    msg = llm.invoke(\n",
    "\n",
    "        f\"Validate if '{country}' is a real country and '{column_name}' is a valid news category. \"\n",
    "        f\"Respond ONLY with 'True' (if valid) or 'False' (if invalid). Do not include any extra words.\"\n",
    "\n",
    "    )\n",
    "    print(msg.content)\n",
    "\n",
    "    is_valid = msg.content.strip().lower() == \"true\"\n",
    "    return {\"input_status\": is_valid}\n"
   ]
  },
  {
   "cell_type": "code",
   "execution_count": null,
   "metadata": {},
   "outputs": [],
   "source": [
    "def route_input(state: State):\n",
    "    \"\"\"\n",
    "    Route the input to the appropriate tool based on the input status\"\"\"\n",
    "\n",
    "    if state[\"input_status\"] == True:\n",
    "        print(\"Accepted\")\n",
    "        return \"Accepted\"\n",
    "    elif state[\"input_status\"] == False:\n",
    "        print(\"Rejected\")\n",
    "        return \"Rejected\""
   ]
  },
  {
   "cell_type": "code",
   "execution_count": 12,
   "metadata": {},
   "outputs": [],
   "source": [
    "# Graph\n",
    "Newsbuilder = StateGraph(State)"
   ]
  },
  {
   "cell_type": "code",
   "execution_count": 13,
   "metadata": {},
   "outputs": [],
   "source": [
    "Newsbuilder.add_node(\"get_user_input\", get_user_input)\n",
    "Newsbuilder.add_node(\"get_news\", get_news)\n",
    "Newsbuilder.add_node(\"get_summary\", get_summary)\n",
    "Newsbuilder.add_node(\"validate_user_input\", validate_user_input)\n",
    "\n",
    "\n",
    "Newsbuilder.add_edge(START, \"get_user_input\")\n",
    "Newsbuilder.add_edge(\"get_user_input\", \"validate_user_input\")\n",
    "#Newsbuilder.add_edge(\"validate_user_input\", \"get_news\")\n",
    "Newsbuilder.add_edge(\"get_news\", \"get_summary\")\n",
    "Newsbuilder.add_edge(\"get_summary\", END)\n",
    "\n",
    "\n",
    "\n",
    "Newsbuilder.add_conditional_edges(\n",
    "    \"validate_user_input\",\n",
    "    route_input,\n",
    "    {\n",
    "        \"Accepted\": \"get_news\",\n",
    "        \"Rejected\": \"get_user_input\"\n",
    "    }\n",
    ")\n",
    "\n",
    "\n",
    "graph = Newsbuilder.compile()"
   ]
  },
  {
   "cell_type": "code",
   "execution_count": 15,
   "metadata": {},
   "outputs": [
    {
     "data": {
      "image/png": "[encoded data removed]",
      "text/plain": [
       "<IPython.core.display.Image object>"
      ]
     },
     "metadata": {},
     "output_type": "display_data"
    }
   ],
   "source": [
    "from IPython.display import Image, display\n",
    "display(Image(graph.get_graph().draw_mermaid_png()))"
   ]
  },
  {
   "cell_type": "code",
   "execution_count": 16,
   "metadata": {},
   "outputs": [
    {
     "name": "stdout",
     "output_type": "stream",
     "text": [
      "Country/Area:  Australia\n",
      "News Column:  Weather\n",
      "True\n",
      "Accepted\n"
     ]
    }
   ],
   "source": [
    "state = graph.invoke({\"country\": \"\", \"news_column\": \"\"}) "
   ]
  },
  {
   "cell_type": "code",
   "execution_count": 17,
   "metadata": {},
   "outputs": [
    {
     "data": {
      "text/markdown": [
       "### Top 5 Weather-Related News Stories for Australia\n",
       "\n",
       "#### 1. **Heatwave Alert for Eastern Australia**\n",
       "   - **Summary**: Eastern states of Australia, including New South Wales, Queensland, and Victoria, are facing a heatwave with temperatures expected to exceed 40°C in some inland areas. Health authorities are urging the public to take preventive measures against heat-related illnesses.\n",
       "\n",
       "#### 2. **Cyclone Watch in Northern Queensland**\n",
       "   - **Summary**: A tropical low in the Coral Sea is under observation for potential cyclone development. Northern Queensland's coastal areas are on cyclone watch, with authorities advising residents to prepare for severe weather conditions.\n",
       "\n",
       "#### 3. **Heavy Rainfall and Flooding in Tasmania**\n",
       "   - **Summary**: Tasmania has seen substantial rainfall leading to localized flooding. The State Emergency Service is managing flood-related emergencies, advising residents to stay updated with weather alerts.\n",
       "\n",
       "#### 4. **Cooler Temperatures and Showers in South Australia**\n",
       "   - **Summary**: South Australia is experiencing a transition to cooler weather, including showers. This change benefits agricultural activities, aiding in crop growth after prolonged dry conditions.\n",
       "\n",
       "#### 5. **Bushfire Risk Increases in Western Australia**\n",
       "   - **Summary**: Western Australia faces elevated bushfire risks due to hot and dry conditions. Firefighters and the public are on alert, with total fire bans in place and emergency preparedness emphasized.\n",
       "\n",
       "These summaries are based on reports from official meteorological and emergency services, ensuring accurate and unbiased coverage of the current weather conditions in Australia."
      ],
      "text/plain": [
       "<IPython.core.display.Markdown object>"
      ]
     },
     "execution_count": 17,
     "metadata": {},
     "output_type": "execute_result"
    }
   ],
   "source": [
    "from IPython.display import Markdown\n",
    "Markdown(state ['summary_news'])"
   ]
  },
  {
   "cell_type": "code",
   "execution_count": null,
   "metadata": {},
   "outputs": [],
   "source": []
  }
 ],
 "metadata": {
  "kernelspec": {
   "display_name": "Python 3",
   "language": "python",
   "name": "python3"
  },
  "language_info": {
   "codemirror_mode": {
    "name": "ipython",
    "version": 3
   },
   "file_extension": ".py",
   "mimetype": "text/x-python",
   "name": "python",
   "nbconvert_exporter": "python",
   "pygments_lexer": "ipython3",
   "version": "3.12.0"
  }
 },
 "nbformat": 4,
 "nbformat_minor": 2
}
