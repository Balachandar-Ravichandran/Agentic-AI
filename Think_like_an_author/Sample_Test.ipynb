{
 "cells": [
  {
   "cell_type": "code",
   "execution_count": 1,
   "metadata": {},
   "outputs": [],
   "source": [
    "from dotenv import load_dotenv\n",
    "from googleapiclient.discovery import build\n",
    "from youtube_transcript_api import YouTubeTranscriptApi\n",
    "from langchain_core.prompts import ChatPromptTemplate\n",
    "from langchain_core.output_parsers import StrOutputParser\n",
    "from langchain_core.runnables import RunnablePassthrough\n",
    "from langchain_community.vectorstores import FAISS\n",
    "from langchain_text_splitters import RecursiveCharacterTextSplitter\n",
    "from langchain_openai import OpenAIEmbeddings, ChatOpenAI\n",
    "from langchain_core.documents import Document\n",
    "from langchain_community.tools import DuckDuckGoSearchRun\n",
    "from typing import TypedDict, Optional\n",
    "from operator import itemgetter\n",
    "import re\n",
    "import os"
   ]
  },
  {
   "cell_type": "code",
   "execution_count": 2,
   "metadata": {},
   "outputs": [],
   "source": [
    "class State(TypedDict, total=False):\n",
    "    topic: str\n",
    "    author: str\n",
    "    question: str\n",
    "    recent_fact_checks: str"
   ]
  },
  {
   "cell_type": "code",
   "execution_count": 5,
   "metadata": {},
   "outputs": [],
   "source": [
    "## get user input\n",
    "def get_user_input(state: State):\n",
    "    topic = \"Rich dad poor dad\"\n",
    "    author = \"Robert Kiyosaki\"\n",
    "    print(f\"Topic: {topic}\")\n",
    "    print(f\"Author: {author}\")\n",
    "    return  {\"topic\": topic, \"author\": author}"
   ]
  },
  {
   "cell_type": "code",
   "execution_count": 6,
   "metadata": {},
   "outputs": [],
   "source": [
    "def fact_checks(state: State) -> State:\n",
    "    try:\n",
    "        search = DuckDuckGoSearchRun()\n",
    "        results = search.invoke(f\"{state['author']} {state['topic']} fact check\")\n",
    "        state[\"recent_fact_checks\"] = results[:1000] if results else \"No additional info found\"\n",
    "        return state\n",
    "    except Exception as e:\n",
    "        print(f\"Fact check error: {str(e)}\")\n",
    "        state[\"recent_fact_checks\"] = \"Error in fact checking\"\n",
    "        return state"
   ]
  },
  {
   "cell_type": "code",
   "execution_count": 7,
   "metadata": {},
   "outputs": [],
   "source": [
    "from IPython.display import Image, display\n",
    "\n",
    "from langgraph.checkpoint.memory import MemorySaver\n",
    "from langgraph.graph import MessagesState\n",
    "from langgraph.graph import START, StateGraph,END\n",
    "from langgraph.prebuilt import tools_condition, ToolNode\n",
    "\n",
    "from langchain_core.messages import AIMessage, HumanMessage, SystemMessage\n",
    "from typing_extensions import TypedDict"
   ]
  },
  {
   "cell_type": "code",
   "execution_count": 8,
   "metadata": {},
   "outputs": [
    {
     "data": {
      "text/plain": [
       "<langgraph.graph.state.StateGraph at 0x225576a0ec0>"
      ]
     },
     "execution_count": 8,
     "metadata": {},
     "output_type": "execute_result"
    }
   ],
   "source": [
    "# Graph\n",
    "Graphbuilder = StateGraph(State)\n",
    "Graphbuilder.add_node(\"get_user_input\", get_user_input)\n",
    "Graphbuilder.add_node(\"fact_checks\", fact_checks)\n",
    "\n",
    "Graphbuilder.add_edge(START, \"get_user_input\")\n",
    "Graphbuilder.add_edge(\"get_user_input\", \"fact_checks\")\n",
    "Graphbuilder.add_edge(\"fact_checks\", END)"
   ]
  },
  {
   "cell_type": "code",
   "execution_count": 9,
   "metadata": {},
   "outputs": [
    {
     "data": {
      "image/png": "[encoded data removed]",
      "text/plain": [
       "<IPython.core.display.Image object>"
      ]
     },
     "metadata": {},
     "output_type": "display_data"
    }
   ],
   "source": [
    "\n",
    "workflow = Graphbuilder.compile()\n",
    "from IPython.display import Image, display\n",
    "display(Image(workflow.get_graph().draw_mermaid_png()))"
   ]
  },
  {
   "cell_type": "code",
   "execution_count": 12,
   "metadata": {},
   "outputs": [
    {
     "name": "stdout",
     "output_type": "stream",
     "text": [
      "Topic: Rich dad poor dad\n",
      "Author: Robert Kiyosaki\n",
      "Topic: Rich dad poor dad\n",
      "Author: Robert Kiyosaki\n",
      "Final State:  {'topic': 'Rich dad poor dad', 'author': 'Robert Kiyosaki', 'recent_fact_checks': 'In his popular book \"Rich Dad Poor Dad,\" author Robert Kiyosaki, along with co-writer Sharon L. Lecther, offers a tale of two fathers: One man, a successful businessman, uses his financial savvy to generate lasting wealth; the other, a hard-working educator, struggles to go beyond living within his means. Though both men are admirable in their love of family, only the rich dad has the ... Robert Kiyosaki is a businessman, motivational speaker, and author of \"Rich Dad Poor Dad\" who is also known for his controversial predictions. He encourages people to build wealth through assets and builds his brand around financial education. Robert Kiyosaki, author of the classic \"Rich Dad Poor Dad,\" cited how an economic collapse is just around the corner. Rich Dad Poor Dad For Teens (2004) \"A genius is someone who excels at something. But a genius isn\\'t necessarily good at everything. In fact, a genius usually has a special ability in one area while being pretty average in others.\" \"Rich Dad Poor '}\n"
     ]
    }
   ],
   "source": [
    "\n",
    "state = workflow.invoke(get_user_input({}))\n",
    "print(\"Final State: \", state) "
   ]
  },
  {
   "cell_type": "code",
   "execution_count": null,
   "metadata": {},
   "outputs": [],
   "source": []
  }
 ],
 "metadata": {
  "kernelspec": {
   "display_name": "Python 3",
   "language": "python",
   "name": "python3"
  },
  "language_info": {
   "codemirror_mode": {
    "name": "ipython",
    "version": 3
   },
   "file_extension": ".py",
   "mimetype": "text/x-python",
   "name": "python",
   "nbconvert_exporter": "python",
   "pygments_lexer": "ipython3",
   "version": "3.12.0"
  }
 },
 "nbformat": 4,
 "nbformat_minor": 2
}
