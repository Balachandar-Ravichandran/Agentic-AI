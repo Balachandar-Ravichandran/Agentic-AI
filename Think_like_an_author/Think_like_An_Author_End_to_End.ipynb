{
 "cells": [
  {
   "cell_type": "code",
   "execution_count": 1,
   "metadata": {},
   "outputs": [],
   "source": [
    "from dotenv import load_dotenv\n",
    "from googleapiclient.discovery import build\n",
    "from youtube_transcript_api import YouTubeTranscriptApi\n",
    "from langchain_core.prompts import ChatPromptTemplate\n",
    "from langchain_core.output_parsers import StrOutputParser\n",
    "from langchain_core.runnables import RunnablePassthrough\n",
    "from langchain_community.vectorstores import FAISS\n",
    "from langchain_text_splitters import RecursiveCharacterTextSplitter\n",
    "from langchain_openai import OpenAIEmbeddings, ChatOpenAI\n",
    "from langchain_core.documents import Document\n",
    "from langchain_community.tools import DuckDuckGoSearchRun\n",
    "from typing import TypedDict\n",
    "import os"
   ]
  },
  {
   "cell_type": "code",
   "execution_count": 2,
   "metadata": {},
   "outputs": [],
   "source": [
    "# Load environment variables\n",
    "load_dotenv()\n",
    "\n",
    "# Initialize APIs\n",
    "youtube = build('youtube', 'v3', developerKey=os.getenv(\"YOUTUBE_API_KEY\"))\n",
    "embedder = OpenAIEmbeddings(model=\"text-embedding-3-small\")\n",
    "llm = ChatOpenAI(model=\"gpt-3.5-turbo\", temperature=0.7)\n"
   ]
  },
  {
   "cell_type": "code",
   "execution_count": 3,
   "metadata": {},
   "outputs": [],
   "source": [
    "class SearchResult:\n",
    "    def __init__(self, search_result):\n",
    "        self.video_id = search_result['id']['videoId']\n",
    "        self.title = search_result['snippet']['title']\n",
    "        self.transcript = self._get_transcript()\n",
    "\n",
    "    def _get_transcript(self):\n",
    "        try:\n",
    "            transcript_list = YouTubeTranscriptApi.get_transcript(self.video_id)\n",
    "            return \" \".join([item['text'] for item in transcript_list])\n",
    "        except Exception as e:\n",
    "            print(f\"Transcript error for {self.video_id}: {str(e)}\")\n",
    "            return \"\""
   ]
  },
  {
   "cell_type": "code",
   "execution_count": 4,
   "metadata": {},
   "outputs": [],
   "source": [
    "def search_yt(query, max_results=3):\n",
    "    try:\n",
    "        request = youtube.search().list(\n",
    "            part=\"snippet\",\n",
    "            maxResults=max_results,\n",
    "            q=query,\n",
    "            videoCaption='closedCaption',\n",
    "            type='video',\n",
    "        )\n",
    "        return request.execute().get('items', [])\n",
    "    except Exception as e:\n",
    "        print(f\"YouTube API error: {str(e)}\")\n",
    "        return []"
   ]
  },
  {
   "cell_type": "code",
   "execution_count": 5,
   "metadata": {},
   "outputs": [],
   "source": [
    "text_splitter = RecursiveCharacterTextSplitter(\n",
    "    chunk_size=1000,\n",
    "    chunk_overlap=200\n",
    ")"
   ]
  },
  {
   "cell_type": "code",
   "execution_count": 6,
   "metadata": {},
   "outputs": [],
   "source": [
    "def create_faiss_index(items):\n",
    "    documents = []\n",
    "    for item in items:\n",
    "        result = SearchResult(item)\n",
    "        if not result.transcript:\n",
    "            continue\n",
    "            \n",
    "        full_text = f\"Title: {result.title}\\nTranscript: {result.transcript}\"\n",
    "        chunks = text_splitter.split_text(full_text)\n",
    "        \n",
    "        for chunk in chunks:\n",
    "            documents.append(Document(\n",
    "                page_content=chunk,\n",
    "                metadata={\n",
    "                    \"video_id\": result.video_id,\n",
    "                    \"title\": result.title\n",
    "                }\n",
    "            ))\n",
    "    \n",
    "    if not documents:\n",
    "        print(\"No valid documents created\")\n",
    "        return None\n",
    "    \n",
    "    try:\n",
    "        return FAISS.from_documents(documents, embedder)\n",
    "    except Exception as e:\n",
    "        print(f\"FAISS error: {str(e)}\")\n",
    "        return None"
   ]
  },
  {
   "cell_type": "code",
   "execution_count": 7,
   "metadata": {},
   "outputs": [],
   "source": [
    "class State(TypedDict):\n",
    "    topic: str\n",
    "    author: str\n",
    "    question: str\n",
    "    objective_check: bool\n",
    "    youtube_summary: str\n",
    "    recent_fact_checks: str\n",
    "    validation_feedback: str\n",
    "    validate_fact_checks: str\n",
    "    generate_summary: str\n",
    "    check_author_style: str "
   ]
  },
  {
   "cell_type": "code",
   "execution_count": 8,
   "metadata": {},
   "outputs": [],
   "source": [
    "from typing import Optional\n",
    "from langchain_core.runnables import RunnableLambda"
   ]
  },
  {
   "cell_type": "code",
   "execution_count": 9,
   "metadata": {},
   "outputs": [],
   "source": [
    "def get_user_input(state=None) -> dict:\n",
    "    return {\n",
    "        \"topic\": \"Rich Dad Poor Dad\",\n",
    "        \"author\": \"Robert Kiyosaki\",\n",
    "        \"question\": \"Is buying a dog an asset?\",\n",
    "        \"youtube_summary\": \"\",\n",
    "        \"objective_check\": \"\",\n",
    "        \"validation_feedback\": \"\",\n",
    "        \"recent_fact_checks\": \"\",\n",
    "        \"validate_fact_checks\": \"\"\n",
    "    }\n"
   ]
  },
  {
   "cell_type": "code",
   "execution_count": 12,
   "metadata": {},
   "outputs": [],
   "source": [
    "def YouTube_search(state: State):\n",
    "    try:\n",
    "        print(\"\\n=== Starting YouTube Search ===\")\n",
    "        \n",
    "        # Step 1: Search YouTube\n",
    "        items = search_yt(f\"{state['topic']} {state['author']}\")\n",
    "        if not items:\n",
    "            print(\"❌ No search results found\")\n",
    "            return state\n",
    "        print(\"✅ Valid search results found\")\n",
    "        \n",
    "        # Step 2: Create FAISS index\n",
    "        faiss_index = create_faiss_index(items)\n",
    "        if not faiss_index:\n",
    "            print(\"❌ FAISS index creation failed\")\n",
    "            return state\n",
    "        print(\"✅ FAISS index created successfully\")\n",
    "        \n",
    "        # Step 3: Setup RAG chain\n",
    "        template = \"\"\"Analyze and respond as {author} would. Rules:\n",
    "        1. Use ONLY provided context\n",
    "        2. Maintain {author}'s style\n",
    "        3. State \"Need information\" if context is insufficient\n",
    "        \n",
    "        Context: {context}\n",
    "        Question: {question}\n",
    "        {author}'s analysis:\"\"\"\n",
    "        \n",
    "        prompt = ChatPromptTemplate.from_template(template)\n",
    "        \n",
    "        rag_chain = (\n",
    "            {\"context\": faiss_index.as_retriever(), \n",
    "             \"question\": RunnablePassthrough(),\n",
    "             \"author\": lambda _: state[\"author\"]}\n",
    "            | prompt \n",
    "            | llm\n",
    "            | StrOutputParser()\n",
    "        )\n",
    "        \n",
    "        # Step 4: Generate summary\n",
    "        state[\"youtube_summary\"] = rag_chain.invoke(state[\"question\"])\n",
    "        print(\"✅ YouTube summary generated successfully\")\n",
    "        return state\n",
    "        \n",
    "    except Exception as e:\n",
    "        print(f\"\\n❌ Critical search error: {str(e)}\")\n",
    "        return state"
   ]
  },
  {
   "cell_type": "code",
   "execution_count": 13,
   "metadata": {},
   "outputs": [],
   "source": [
    "def validate_user_input(state: State) -> State:\n",
    "    try:\n",
    "        validation_prompt = f\"\"\"Analyze if this user's question {state['question']} relates to {state['topic']}:\n",
    "        Question: {state['question']}\n",
    "        Author: {state['author']}\n",
    "        Respond ONLY with 'True' or 'False'\"\"\"\n",
    "        \n",
    "        response = llm.invoke(validation_prompt).content.strip().lower()\n",
    "        state[\"objective_check\"] = response == \"true\"\n",
    "        return state\n",
    "    except Exception as e:\n",
    "        print(f\"Validation error: {str(e)}\")\n",
    "        state[\"objective_check\"] = False\n",
    "        return state"
   ]
  },
  {
   "cell_type": "code",
   "execution_count": 14,
   "metadata": {},
   "outputs": [],
   "source": [
    "import re \n",
    "\n",
    "def validate_yt_summary(state: State) -> State:\n",
    "    try:\n",
    "        # Structured prompt with explicit formatting rules\n",
    "        feedback_prompt = f\"\"\"ANALYSIS TASK:\n",
    "        Verify if this YouTube summary adequately answers the user's question about {state['topic']} \n",
    "        in {state['author']}'s style. Use these strict criteria:\n",
    "\n",
    "        [REQUIREMENTS]\n",
    "        1. MUST directly address: \"{state['question']}\"\n",
    "        2. MUST align with {state['author']}'s known perspectives\n",
    "        3. MUST contain concrete information from the source\n",
    "\n",
    "        [SUMMARY TO VALIDATE]\n",
    "        {state['youtube_summary']}\n",
    "\n",
    "        [RESPONSE FORMAT]\n",
    "        - ONLY \"VALID\" if perfect\n",
    "        - OR \"SEARCH FOR CONTENT: [Topic Keywords] - {state['author']} - [Specific Aspect]\"\n",
    "        \n",
    "        [EXAMPLE]\n",
    "        SEARCH FOR CONTENT: wealth building strategies - Robert Kiyosaki - 2024 tax changes impact\"\"\"\n",
    "\n",
    "        response = llm.invoke(feedback_prompt).content.strip()\n",
    "        \n",
    "        # Strict response parsing\n",
    "        if \"SEARCH FOR CONTENT:\" in response.upper():\n",
    "            # Extract first matching pattern and clean special characters\n",
    "            search_query = response.split(\"SEARCH FOR CONTENT:\")[-1].split(\"\\n\")[0].strip()\n",
    "            search_query = re.sub(r'[^a-zA-Z0-9\\s\\-:]', '', search_query)  # Remove special chars\n",
    "            state[\"validation_feedback\"] = f\"SEARCH FOR CONTENT: {search_query}\"\n",
    "        else:\n",
    "            state[\"validation_feedback\"] = \"VALID\" if \"VALID\" in response.upper() else \"SEARCH FOR CONTENT: general update - {state['author']} - current trends\"\n",
    "\n",
    "        return state\n",
    "    \n",
    "    except Exception as e:\n",
    "        print(f\"🔴 Validation error: {str(e)}\")\n",
    "        state[\"validation_feedback\"] = f\"SEARCH FOR CONTENT: {state['topic']} - {state['author']} - latest updates\"\n",
    "        return state"
   ]
  },
  {
   "cell_type": "code",
   "execution_count": 15,
   "metadata": {},
   "outputs": [],
   "source": [
    "def fact_checks(state: State) -> State:\n",
    "    try:\n",
    "        # Check if validation feedback contains search trigger\n",
    "        if \"SEARCH FOR CONTENT:\" not in state['validation_feedback']:\n",
    "            if state['validation_feedback'].upper() == \"VALID\":\n",
    "                state[\"recent_fact_checks\"] = \"Fact check not needed\"\n",
    "                return state\n",
    "\n",
    "        print(\"\\n=== Starting Fact Check ===\")\n",
    "        \n",
    "        # Extract clean search terms from validation feedback\n",
    "        search_terms = state['validation_feedback'].split(\"SEARCH FOR CONTENT:\")[-1].strip()\n",
    "        \n",
    "        # Build optimized search query\n",
    "        search_query = f\"{state['author']} {search_terms}\"\n",
    "        \n",
    "        # Perform search with cleaned query\n",
    "        search = DuckDuckGoSearchRun()\n",
    "        results = search.invoke(search_query)\n",
    "        \n",
    "        # Handle empty results\n",
    "        if not results or len(results) < 50:  # DDG often returns short error messages\n",
    "            state[\"recent_fact_checks\"] = \"No credible articles found on this topic\"\n",
    "        else:\n",
    "            state[\"recent_fact_checks\"] = results[:1000]  # Limit response length\n",
    "            \n",
    "        print(\"✅ Fact check completed successfully\")\n",
    "        return state\n",
    "\n",
    "    except Exception as e:\n",
    "        print(f\"Fact check error: {str(e)}\")\n",
    "        state[\"recent_fact_checks\"] = \"Error retrieving verification data\"\n",
    "        return state"
   ]
  },
  {
   "cell_type": "code",
   "execution_count": 16,
   "metadata": {},
   "outputs": [],
   "source": [
    "def validate_facts(state: State) -> State:\n",
    "    try:\n",
    "        validation_prompt = f\"\"\"Analyze if this user's question {state['recent_fact_checks']} able to find the article :\n",
    "        Respond ONLY with 'True' or 'False'\"\"\"\n",
    "        \n",
    "        response = llm.invoke(validation_prompt).content.strip().lower()\n",
    "        state[\"validate_fact_checks\"] = response == \"true\"\n",
    "        return state\n",
    "    except Exception as e:\n",
    "        print(f\"Validation error: {str(e)}\")\n",
    "        state[\"validate_fact_checks\"] = False\n",
    "        return state"
   ]
  },
  {
   "cell_type": "code",
   "execution_count": null,
   "metadata": {},
   "outputs": [],
   "source": [
    "def consolidate_summary(state: State) -> State:\n",
    "    try:\n",
    "        # Structured prompt with explicit formatting rules\n",
    "\n",
    "        if state[\"objective_check\"] == False:\n",
    "        print(\"The Question is not relevent to the Topic or i am not expertice in this topic\")\n",
    "        state[\"generate_summary\"] = \"The Question is not relevent to the Topic or i am not expertice in this topic\"\n",
    "        return state\n",
    "        if state[\"validate_fact_checks\"] = False\n",
    "        state[\"generate_summary\"] = \"No credible articles found on this topic\"\n",
    "        return state\n",
    "        if\n",
    "        \n",
    "    else:\n",
    "        state[\"final_summary\"] = \"Valid\"\n",
    "        return state\n",
    "\n",
    "\n",
    "\n",
    "        summary_prompt = f\"\"\"ANALYSIS TASK:\n",
    "        Generate a summary of the user's question {state['question']} \n",
    "         i have provided below source for you to answer the question in {state['author']}'s style\n",
    "        Generate summary with below source \n",
    "        1) {state['youtube_summary']}\n",
    "        2) if {state['recent_fact_checks']} is available use this as well along with  {state['youtube_summary']} to answer the question\n",
    "\n",
    "        [REQUIREMENTS]\n",
    "        1. MUST directly address: \"{state['question']}\"\n",
    "        2. MUST align with {state['author']}'s known perspectives and answer as like {state['author']}\n",
    "        3. MUST contain concrete information from the source\n",
    "\n",
    "        [SUMMARY TO GENERATE] \n",
    "        {state['youtube_summary']}\n",
    "        {state['recent_fact_checks']} \"\"\"\n",
    "        state[\"generate_summary\"] =  llm.invoke(summary_prompt).content.strip()\n",
    "        print(\"✅ Summary generated successfully\")\n",
    "        return state\n",
    "    except Exception as e:\n",
    "        print(f\"Summary generation error: {str(e)}\")"
   ]
  },
  {
   "cell_type": "code",
   "execution_count": 119,
   "metadata": {},
   "outputs": [
    {
     "name": "stdout",
     "output_type": "stream",
     "text": [
      "\n",
      "=== Starting YouTube Search ===\n",
      "✅ Valid search results found\n",
      "✅ FAISS index created successfully\n",
      "✅ YouTube summary generated successfully\n",
      "✅ Summary generated successfully\n",
      "\n",
      "Final Results:\n",
      "Topic: Rich Dad Poor Dad\n",
      "Question: Is buying a dog an asset?\n",
      "Relevance Check: False\n",
      "Summary Validation: VALID\n",
      "Author Analysis:\n",
      "Buying a dog is not an asset, it is a liability. Just like a bigger, flashier house, a dog will take money out of your pocket. It is important to understand the difference between an asset and a liability. Remember, high emotions can cloud financial intelligence, so it's crucial to make decisions based on cash flow and financial education.\n",
      "Recent Fact Checks: Fact check not needed\n",
      "Fact Check Validation: True\n",
      "Generated Summary: Buying a dog is not an asset, it is a liability. Just like a bigger, flashier house, a dog will take money out of your pocket. It is important to understand the difference between an asset and a liability. Remember, high emotions can cloud financial intelligence, so it's crucial to make decisions based on cash flow and financial education.\n"
     ]
    }
   ],
   "source": [
    "if __name__ == \"__main__\":\n",
    "    state = get_user_input()\n",
    "    state = YouTube_search(state)\n",
    "    \n",
    "    if state.get(\"youtube_summary\"):\n",
    "        state = validate_user_input(state)\n",
    "        state = validate_yt_summary(state)\n",
    "        state = fact_checks(state)\n",
    "        state = validate_facts(state)\n",
    "        state = consolidate_summary(state)\n",
    "        \n",
    "        print(\"\\nFinal Results:\")\n",
    "        print(f\"Topic: {state['topic']}\")\n",
    "        print(f\"Question: {state['question']}\")\n",
    "        print(f\"Relevance Check: {state['objective_check']}\")\n",
    "        print(f\"Summary Validation: {state['validation_feedback']}\")\n",
    "        print(f\"Author Analysis:\\n{state['youtube_summary']}\")\n",
    "        print(f\"Recent Fact Checks: {state['recent_fact_checks']}\")\n",
    "        print(f\"Fact Check Validation: {state['validate_fact_checks']}\")\n",
    "        print(f\"Generated Summary: {state['generate_summary']}\")\n",
    "    else:\n",
    "        print(\"Processing failed - check error logs\")"
   ]
  },
  {
   "cell_type": "code",
   "execution_count": 60,
   "metadata": {},
   "outputs": [
    {
     "name": "stdout",
     "output_type": "stream",
     "text": [
      "\n",
      "=== Starting Fact Check ===\n",
      "✅ Fact check completed successfully\n",
      "Summary Validation: SEARCH FOR CONTENT: real estate market analysis - Robert Kiyosaki - 2024 housing market outlook\n",
      "Author Analysis:\n",
      "The current economic condition presents a variety of opportunities for investments. However, it is crucial to understand that the best investment may not always be the most popular or conventional choice. Wise investors do not follow the crowd or invest in what is already popular. Instead, they look for opportunities that others may overlook and are willing to take calculated risks. Developing financial intelligence over a lifetime is key to recognizing and seizing these opportunities. Remember, the world is always handing you opportunities of a lifetime, it's up to you to see them and take advantage of them.\n",
      "Recent Fact Checks: Is Robert Kiyosaki's \"Rich Dad\" approach to real estate investing outdated? We explore if his strategies can still help you build wealth in the 2024 market. ... and Inventory Analysis; California Housing Market: Trends and Forecast 2025-2026; 20 Wealthy Neighborhoods in Los Angeles ... it's important to note that while Kiyosaki's principles ... Housing Market 2024: 10 Hotspots Where You Need $500K+ to Buy ... Kiyosaki's success isn't just about how debt, real estate, and gold made Robert Kiyosaki rich. It's also about his mindset. He constantly emphasizes the importance of financial education, taking control of your finances, and breaking free from the traditional 9-to-5 mindset ... Investing in its booming real estate market has never been more ac In a recent X post, \"Rich Dad Poor Dad\" author Robert Kiyosaki made some bold predictions for his followers. \"The best time to ... Robert Kiyosaki, \"Rich Dad Poor Dad\" author and renowned businessman, teaches people how to become wealthy bey\n"
     ]
    }
   ],
   "source": [
    "\n",
    "state[\"validation_feedback\"]= \"SEARCH FOR CONTENT: real estate market analysis - Robert Kiyosaki - 2024 housing market outlook\"\n",
    "#validate_yt_summary(state)\n",
    "fact_checks(state)\n",
    "print(f\"Summary Validation: {state['validation_feedback']}\")\n",
    "print(f\"Author Analysis:\\n{state['youtube_summary']}\")\n",
    "print(f\"Recent Fact Checks: {state['recent_fact_checks']}\")"
   ]
  },
  {
   "cell_type": "code",
   "execution_count": 55,
   "metadata": {},
   "outputs": [],
   "source": [
    "def get_user_input(state=None) -> dict:\n",
    "    return {\n",
    "        \"topic\": \"Rich Dad Poor Dad\",\n",
    "        \"author\": \"Robert Kiyosaki\",\n",
    "        \"question\": \"current economic condition what is the best investment?\",\n",
    "        \"youtube_summary\": \"\",\n",
    "        \"objective_check\": \"\",\n",
    "        \"validation_feedback\": \"\",\n",
    "        \"recent_fact_checks\": \"\",\n",
    "    }"
   ]
  },
  {
   "cell_type": "code",
   "execution_count": 67,
   "metadata": {},
   "outputs": [],
   "source": [
    "def route_input(state: State):\n",
    "    \"\"\"\n",
    "    Route the input to the appropriate tool based on the input status\"\"\"\n",
    "\n",
    "    if state[\"objective_check\"] == True:\n",
    "        print(\"Accepted\")\n",
    "        return \"Accepted\"\n",
    "    elif state[\"objective_check\"] == False:\n",
    "        print(\"Rejected\")\n",
    "        return \"Rejected\""
   ]
  },
  {
   "cell_type": "code",
   "execution_count": 122,
   "metadata": {},
   "outputs": [],
   "source": [
    "def route_basedon_Summary(state: dict):\n",
    "    \"\"\"\n",
    "    Route the input to the appropriate tool based on the input status\n",
    "    \"\"\"\n",
    "    validation_feedback = state.get(\"validation_feedback\", \"\")\n",
    "\n",
    "    if validation_feedback == \"Valid\":\n",
    "        print(\"Accepted\")\n",
    "        return \"Accepted\"\n",
    "    else: \"SEARCH\" in validation_feedback\n",
    "    print(\"need more info\")\n",
    "    return \"need more info\"\n",
    "    # else:\n",
    "    #     print(\"Error/Not relevent/Unknown Status\")\n",
    "    #     return \"Rejected\"\n"
   ]
  },
  {
   "cell_type": "code",
   "execution_count": 69,
   "metadata": {},
   "outputs": [],
   "source": [
    "def end_summary(state: State):\n",
    "    \"\"\"\n",
    "    Generate the final summary based on the input status\n",
    "    \"\"\"\n",
    "    if state[\"objective_check\"] == False:\n",
    "        print(\"The Question is not relevent to the Topic or i am not expertice in this topic\")\n",
    "        state[\"final_summary\"] = \"The Question is not relevent to the Topic or i am not expertice in this topic\"\n",
    "        return state\n",
    "    \n",
    "    else:\n",
    "        state[\"final_summary\"] = \"Valid\"\n",
    "        return state"
   ]
  },
  {
   "cell_type": "code",
   "execution_count": 70,
   "metadata": {},
   "outputs": [],
   "source": [
    "from IPython.display import Image, display\n",
    "\n",
    "from langgraph.checkpoint.memory import MemorySaver\n",
    "from langgraph.graph import MessagesState\n",
    "from langgraph.graph import START, StateGraph,END\n",
    "from langgraph.prebuilt import tools_condition, ToolNode\n",
    "\n",
    "from langchain_core.messages import AIMessage, HumanMessage, SystemMessage\n",
    "from typing_extensions import TypedDict"
   ]
  },
  {
   "cell_type": "code",
   "execution_count": null,
   "metadata": {},
   "outputs": [
    {
     "data": {
      "text/plain": [
       "<langgraph.graph.state.StateGraph at 0x13c6389aa50>"
      ]
     },
     "execution_count": 126,
     "metadata": {},
     "output_type": "execute_result"
    }
   ],
   "source": [
    "# Graph\n",
    "Graphbuilder = StateGraph(State)\n",
    "Graphbuilder.add_node(\"get_user_input\", get_user_input)\n",
    "Graphbuilder.add_node(\"YouTube_search\",YouTube_search)\n",
    "Graphbuilder.add_node(\"validate_user_input\", validate_user_input)\n",
    "Graphbuilder.add_node(\"validate_yt_summary\", validate_yt_summary)\n",
    "Graphbuilder.add_node(\"fact_checks\", fact_checks)\n",
    "Graphbuilder.add_node(\"consolidate_summary\", consolidate_summary)\n",
    "#Graphbuilder.add_node(\"validate_facts\", validate_facts)\n",
    "# Graphbuilder.add_node(\"check_author_style\", check_author_style)\n",
    "#Graphbuilder.add_node(\"end_summary\", end_summary)\n",
    "\n",
    "\n",
    "Graphbuilder.add_edge(START, \"get_user_input\")\n",
    "Graphbuilder.add_edge(\"get_user_input\", \"YouTube_search\")\n",
    "Graphbuilder.add_edge(\"YouTube_search\", \"validate_user_input\")\n",
    "Graphbuilder.add_edge(\"YouTube_search\", \"validate_yt_summary\")\n",
    "Graphbuilder.add_edge(\"consolidate_summary\", END)\n",
    "\n",
    "\n",
    "Graphbuilder.add_conditional_edges(\n",
    "    \"validate_user_input\",\n",
    "    route_input,\n",
    "    {\n",
    "        \"Accepted\": \"fact_checks\",\n",
    "        \"Rejected\": \"end_summary\"\n",
    "    }\n",
    ")\n",
    "\n",
    "\n",
    "Graphbuilder.add_conditional_edges(\n",
    "    \"validate_yt_summary\",\n",
    "    route_basedon_Summary,\n",
    "    {\n",
    "        \"Accepted\": \"consolidate_summary\",\n",
    "        \"need more info\": \"fact_checks\"\n",
    "    }\n",
    ")\n",
    "\n",
    "\n",
    "Graphbuilder.add_conditional_edges(\n",
    "    \"fact_checks\",\n",
    "    validate_facts,\n",
    "    {\n",
    "        \"Accepted\": \"consolidate_summary\",\n",
    "        \"Rejected\": \"consolidate_summary\"\n",
    "    }\n",
    ")\n",
    "\n"
   ]
  },
  {
   "cell_type": "code",
   "execution_count": 127,
   "metadata": {},
   "outputs": [],
   "source": [
    "graph = Graphbuilder.compile()"
   ]
  },
  {
   "cell_type": "code",
   "execution_count": 128,
   "metadata": {},
   "outputs": [
    {
     "data": {
      "image/png": "[encoded data removed]",
      "text/plain": [
       "<IPython.core.display.Image object>"
      ]
     },
     "metadata": {},
     "output_type": "display_data"
    }
   ],
   "source": [
    "from IPython.display import Image, display\n",
    "display(Image(graph.get_graph().draw_mermaid_png()))"
   ]
  },
  {
   "cell_type": "code",
   "execution_count": 87,
   "metadata": {},
   "outputs": [
    {
     "ename": "TypeError",
     "evalue": "get_user_input() takes 0 positional arguments but 1 was given",
     "output_type": "error",
     "traceback": [
      "\u001b[31m---------------------------------------------------------------------------\u001b[39m",
      "\u001b[31mTypeError\u001b[39m                                 Traceback (most recent call last)",
      "\u001b[36mCell\u001b[39m\u001b[36m \u001b[39m\u001b[32mIn[87]\u001b[39m\u001b[32m, line 1\u001b[39m\n\u001b[32m----> \u001b[39m\u001b[32m1\u001b[39m state = \u001b[43mgraph\u001b[49m\u001b[43m.\u001b[49m\u001b[43minvoke\u001b[49m\u001b[43m(\u001b[49m\u001b[43m{\u001b[49m\n\u001b[32m      2\u001b[39m \u001b[43m    \u001b[49m\u001b[33;43m\"\u001b[39;49m\u001b[33;43mtopic\u001b[39;49m\u001b[33;43m\"\u001b[39;49m\u001b[43m:\u001b[49m\u001b[43m \u001b[49m\u001b[33;43m\"\u001b[39;49m\u001b[33;43mRich Dad Poor Dad\u001b[39;49m\u001b[33;43m\"\u001b[39;49m\u001b[43m,\u001b[49m\n\u001b[32m      3\u001b[39m \u001b[43m    \u001b[49m\u001b[33;43m\"\u001b[39;49m\u001b[33;43mauthor\u001b[39;49m\u001b[33;43m\"\u001b[39;49m\u001b[43m:\u001b[49m\u001b[43m \u001b[49m\u001b[33;43m\"\u001b[39;49m\u001b[33;43mRobert Kiyosaki\u001b[39;49m\u001b[33;43m\"\u001b[39;49m\u001b[43m,\u001b[49m\n\u001b[32m      4\u001b[39m \u001b[43m    \u001b[49m\u001b[33;43m\"\u001b[39;49m\u001b[33;43mquestion\u001b[39;49m\u001b[33;43m\"\u001b[39;49m\u001b[43m:\u001b[49m\u001b[43m \u001b[49m\u001b[33;43m\"\u001b[39;49m\u001b[33;43mIs buying a house an asset?\u001b[39;49m\u001b[33;43m\"\u001b[39;49m\u001b[43m,\u001b[49m\n\u001b[32m      5\u001b[39m \u001b[43m    \u001b[49m\u001b[33;43m\"\u001b[39;49m\u001b[33;43myoutube_summary\u001b[39;49m\u001b[33;43m\"\u001b[39;49m\u001b[43m:\u001b[49m\u001b[43m \u001b[49m\u001b[33;43m\"\u001b[39;49m\u001b[33;43m\"\u001b[39;49m\u001b[43m,\u001b[49m\n\u001b[32m      6\u001b[39m \u001b[43m    \u001b[49m\u001b[33;43m\"\u001b[39;49m\u001b[33;43mobjective_check\u001b[39;49m\u001b[33;43m\"\u001b[39;49m\u001b[43m:\u001b[49m\u001b[43m \u001b[49m\u001b[33;43m\"\u001b[39;49m\u001b[33;43m\"\u001b[39;49m\u001b[43m,\u001b[49m\n\u001b[32m      7\u001b[39m \u001b[43m    \u001b[49m\u001b[33;43m\"\u001b[39;49m\u001b[33;43mvalidation_feedback\u001b[39;49m\u001b[33;43m\"\u001b[39;49m\u001b[43m:\u001b[49m\u001b[43m \u001b[49m\u001b[33;43m\"\u001b[39;49m\u001b[33;43m\"\u001b[39;49m\u001b[43m,\u001b[49m\n\u001b[32m      8\u001b[39m \u001b[43m    \u001b[49m\u001b[33;43m\"\u001b[39;49m\u001b[33;43mrecent_fact_checks\u001b[39;49m\u001b[33;43m\"\u001b[39;49m\u001b[43m:\u001b[49m\u001b[43m \u001b[49m\u001b[33;43m\"\u001b[39;49m\u001b[33;43m\"\u001b[39;49m\u001b[43m,\u001b[49m\n\u001b[32m      9\u001b[39m \u001b[43m}\u001b[49m\u001b[43m)\u001b[49m\n",
      "\u001b[36mFile \u001b[39m\u001b[32md:\\Balachandar\\Career and Office\\AgenticAI\\Practice\\venv\\Lib\\site-packages\\langgraph\\pregel\\__init__.py:2367\u001b[39m, in \u001b[36mPregel.invoke\u001b[39m\u001b[34m(self, input, config, stream_mode, output_keys, interrupt_before, interrupt_after, debug, **kwargs)\u001b[39m\n\u001b[32m   2365\u001b[39m \u001b[38;5;28;01melse\u001b[39;00m:\n\u001b[32m   2366\u001b[39m     chunks = []\n\u001b[32m-> \u001b[39m\u001b[32m2367\u001b[39m \u001b[43m\u001b[49m\u001b[38;5;28;43;01mfor\u001b[39;49;00m\u001b[43m \u001b[49m\u001b[43mchunk\u001b[49m\u001b[43m \u001b[49m\u001b[38;5;129;43;01min\u001b[39;49;00m\u001b[43m \u001b[49m\u001b[38;5;28;43mself\u001b[39;49m\u001b[43m.\u001b[49m\u001b[43mstream\u001b[49m\u001b[43m(\u001b[49m\n\u001b[32m   2368\u001b[39m \u001b[43m    \u001b[49m\u001b[38;5;28;43minput\u001b[39;49m\u001b[43m,\u001b[49m\n\u001b[32m   2369\u001b[39m \u001b[43m    \u001b[49m\u001b[43mconfig\u001b[49m\u001b[43m,\u001b[49m\n\u001b[32m   2370\u001b[39m \u001b[43m    \u001b[49m\u001b[43mstream_mode\u001b[49m\u001b[43m=\u001b[49m\u001b[43mstream_mode\u001b[49m\u001b[43m,\u001b[49m\n\u001b[32m   2371\u001b[39m \u001b[43m    \u001b[49m\u001b[43moutput_keys\u001b[49m\u001b[43m=\u001b[49m\u001b[43moutput_keys\u001b[49m\u001b[43m,\u001b[49m\n\u001b[32m   2372\u001b[39m \u001b[43m    \u001b[49m\u001b[43minterrupt_before\u001b[49m\u001b[43m=\u001b[49m\u001b[43minterrupt_before\u001b[49m\u001b[43m,\u001b[49m\n\u001b[32m   2373\u001b[39m \u001b[43m    \u001b[49m\u001b[43minterrupt_after\u001b[49m\u001b[43m=\u001b[49m\u001b[43minterrupt_after\u001b[49m\u001b[43m,\u001b[49m\n\u001b[32m   2374\u001b[39m \u001b[43m    \u001b[49m\u001b[43mdebug\u001b[49m\u001b[43m=\u001b[49m\u001b[43mdebug\u001b[49m\u001b[43m,\u001b[49m\n\u001b[32m   2375\u001b[39m \u001b[43m    \u001b[49m\u001b[43m*\u001b[49m\u001b[43m*\u001b[49m\u001b[43mkwargs\u001b[49m\u001b[43m,\u001b[49m\n\u001b[32m   2376\u001b[39m \u001b[43m\u001b[49m\u001b[43m)\u001b[49m\u001b[43m:\u001b[49m\n\u001b[32m   2377\u001b[39m \u001b[43m    \u001b[49m\u001b[38;5;28;43;01mif\u001b[39;49;00m\u001b[43m \u001b[49m\u001b[43mstream_mode\u001b[49m\u001b[43m \u001b[49m\u001b[43m==\u001b[49m\u001b[43m \u001b[49m\u001b[33;43m\"\u001b[39;49m\u001b[33;43mvalues\u001b[39;49m\u001b[33;43m\"\u001b[39;49m\u001b[43m:\u001b[49m\n\u001b[32m   2378\u001b[39m \u001b[43m        \u001b[49m\u001b[43mlatest\u001b[49m\u001b[43m \u001b[49m\u001b[43m=\u001b[49m\u001b[43m \u001b[49m\u001b[43mchunk\u001b[49m\n",
      "\u001b[36mFile \u001b[39m\u001b[32md:\\Balachandar\\Career and Office\\AgenticAI\\Practice\\venv\\Lib\\site-packages\\langgraph\\pregel\\__init__.py:2024\u001b[39m, in \u001b[36mPregel.stream\u001b[39m\u001b[34m(self, input, config, stream_mode, output_keys, interrupt_before, interrupt_after, debug, subgraphs)\u001b[39m\n\u001b[32m   2018\u001b[39m     \u001b[38;5;66;03m# Similarly to Bulk Synchronous Parallel / Pregel model\u001b[39;00m\n\u001b[32m   2019\u001b[39m     \u001b[38;5;66;03m# computation proceeds in steps, while there are channel updates.\u001b[39;00m\n\u001b[32m   2020\u001b[39m     \u001b[38;5;66;03m# Channel updates from step N are only visible in step N+1\u001b[39;00m\n\u001b[32m   2021\u001b[39m     \u001b[38;5;66;03m# channels are guaranteed to be immutable for the duration of the step,\u001b[39;00m\n\u001b[32m   2022\u001b[39m     \u001b[38;5;66;03m# with channel updates applied only at the transition between steps.\u001b[39;00m\n\u001b[32m   2023\u001b[39m     \u001b[38;5;28;01mwhile\u001b[39;00m loop.tick(input_keys=\u001b[38;5;28mself\u001b[39m.input_channels):\n\u001b[32m-> \u001b[39m\u001b[32m2024\u001b[39m \u001b[43m        \u001b[49m\u001b[38;5;28;43;01mfor\u001b[39;49;00m\u001b[43m \u001b[49m\u001b[43m_\u001b[49m\u001b[43m \u001b[49m\u001b[38;5;129;43;01min\u001b[39;49;00m\u001b[43m \u001b[49m\u001b[43mrunner\u001b[49m\u001b[43m.\u001b[49m\u001b[43mtick\u001b[49m\u001b[43m(\u001b[49m\n\u001b[32m   2025\u001b[39m \u001b[43m            \u001b[49m\u001b[43mloop\u001b[49m\u001b[43m.\u001b[49m\u001b[43mtasks\u001b[49m\u001b[43m.\u001b[49m\u001b[43mvalues\u001b[49m\u001b[43m(\u001b[49m\u001b[43m)\u001b[49m\u001b[43m,\u001b[49m\n\u001b[32m   2026\u001b[39m \u001b[43m            \u001b[49m\u001b[43mtimeout\u001b[49m\u001b[43m=\u001b[49m\u001b[38;5;28;43mself\u001b[39;49m\u001b[43m.\u001b[49m\u001b[43mstep_timeout\u001b[49m\u001b[43m,\u001b[49m\n\u001b[32m   2027\u001b[39m \u001b[43m            \u001b[49m\u001b[43mretry_policy\u001b[49m\u001b[43m=\u001b[49m\u001b[38;5;28;43mself\u001b[39;49m\u001b[43m.\u001b[49m\u001b[43mretry_policy\u001b[49m\u001b[43m,\u001b[49m\n\u001b[32m   2028\u001b[39m \u001b[43m            \u001b[49m\u001b[43mget_waiter\u001b[49m\u001b[43m=\u001b[49m\u001b[43mget_waiter\u001b[49m\u001b[43m,\u001b[49m\n\u001b[32m   2029\u001b[39m \u001b[43m        \u001b[49m\u001b[43m)\u001b[49m\u001b[43m:\u001b[49m\n\u001b[32m   2030\u001b[39m \u001b[43m            \u001b[49m\u001b[38;5;66;43;03m# emit output\u001b[39;49;00m\n\u001b[32m   2031\u001b[39m \u001b[43m            \u001b[49m\u001b[38;5;28;43;01myield from\u001b[39;49;00m\u001b[43m \u001b[49m\u001b[43moutput\u001b[49m\u001b[43m(\u001b[49m\u001b[43m)\u001b[49m\n\u001b[32m   2032\u001b[39m \u001b[38;5;66;03m# emit output\u001b[39;00m\n",
      "\u001b[36mFile \u001b[39m\u001b[32md:\\Balachandar\\Career and Office\\AgenticAI\\Practice\\venv\\Lib\\site-packages\\langgraph\\pregel\\runner.py:230\u001b[39m, in \u001b[36mPregelRunner.tick\u001b[39m\u001b[34m(self, tasks, reraise, timeout, retry_policy, get_waiter)\u001b[39m\n\u001b[32m    228\u001b[39m t = tasks[\u001b[32m0\u001b[39m]\n\u001b[32m    229\u001b[39m \u001b[38;5;28;01mtry\u001b[39;00m:\n\u001b[32m--> \u001b[39m\u001b[32m230\u001b[39m     \u001b[43mrun_with_retry\u001b[49m\u001b[43m(\u001b[49m\n\u001b[32m    231\u001b[39m \u001b[43m        \u001b[49m\u001b[43mt\u001b[49m\u001b[43m,\u001b[49m\n\u001b[32m    232\u001b[39m \u001b[43m        \u001b[49m\u001b[43mretry_policy\u001b[49m\u001b[43m,\u001b[49m\n\u001b[32m    233\u001b[39m \u001b[43m        \u001b[49m\u001b[43mconfigurable\u001b[49m\u001b[43m=\u001b[49m\u001b[43m{\u001b[49m\n\u001b[32m    234\u001b[39m \u001b[43m            \u001b[49m\u001b[43mCONFIG_KEY_SEND\u001b[49m\u001b[43m:\u001b[49m\u001b[43m \u001b[49m\u001b[43mpartial\u001b[49m\u001b[43m(\u001b[49m\u001b[43mwriter\u001b[49m\u001b[43m,\u001b[49m\u001b[43m \u001b[49m\u001b[43mt\u001b[49m\u001b[43m)\u001b[49m\u001b[43m,\u001b[49m\n\u001b[32m    235\u001b[39m \u001b[43m            \u001b[49m\u001b[43mCONFIG_KEY_CALL\u001b[49m\u001b[43m:\u001b[49m\u001b[43m \u001b[49m\u001b[43mpartial\u001b[49m\u001b[43m(\u001b[49m\u001b[43mcall\u001b[49m\u001b[43m,\u001b[49m\u001b[43m \u001b[49m\u001b[43mt\u001b[49m\u001b[43m)\u001b[49m\u001b[43m,\u001b[49m\n\u001b[32m    236\u001b[39m \u001b[43m        \u001b[49m\u001b[43m}\u001b[49m\u001b[43m,\u001b[49m\n\u001b[32m    237\u001b[39m \u001b[43m    \u001b[49m\u001b[43m)\u001b[49m\n\u001b[32m    238\u001b[39m     \u001b[38;5;28mself\u001b[39m.commit(t, \u001b[38;5;28;01mNone\u001b[39;00m)\n\u001b[32m    239\u001b[39m \u001b[38;5;28;01mexcept\u001b[39;00m \u001b[38;5;167;01mException\u001b[39;00m \u001b[38;5;28;01mas\u001b[39;00m exc:\n",
      "\u001b[36mFile \u001b[39m\u001b[32md:\\Balachandar\\Career and Office\\AgenticAI\\Practice\\venv\\Lib\\site-packages\\langgraph\\pregel\\retry.py:40\u001b[39m, in \u001b[36mrun_with_retry\u001b[39m\u001b[34m(task, retry_policy, configurable)\u001b[39m\n\u001b[32m     38\u001b[39m     task.writes.clear()\n\u001b[32m     39\u001b[39m     \u001b[38;5;66;03m# run the task\u001b[39;00m\n\u001b[32m---> \u001b[39m\u001b[32m40\u001b[39m     \u001b[38;5;28;01mreturn\u001b[39;00m \u001b[43mtask\u001b[49m\u001b[43m.\u001b[49m\u001b[43mproc\u001b[49m\u001b[43m.\u001b[49m\u001b[43minvoke\u001b[49m\u001b[43m(\u001b[49m\u001b[43mtask\u001b[49m\u001b[43m.\u001b[49m\u001b[43minput\u001b[49m\u001b[43m,\u001b[49m\u001b[43m \u001b[49m\u001b[43mconfig\u001b[49m\u001b[43m)\u001b[49m\n\u001b[32m     41\u001b[39m \u001b[38;5;28;01mexcept\u001b[39;00m ParentCommand \u001b[38;5;28;01mas\u001b[39;00m exc:\n\u001b[32m     42\u001b[39m     ns: \u001b[38;5;28mstr\u001b[39m = config[CONF][CONFIG_KEY_CHECKPOINT_NS]\n",
      "\u001b[36mFile \u001b[39m\u001b[32md:\\Balachandar\\Career and Office\\AgenticAI\\Practice\\venv\\Lib\\site-packages\\langgraph\\utils\\runnable.py:546\u001b[39m, in \u001b[36mRunnableSeq.invoke\u001b[39m\u001b[34m(self, input, config, **kwargs)\u001b[39m\n\u001b[32m    542\u001b[39m config = patch_config(\n\u001b[32m    543\u001b[39m     config, callbacks=run_manager.get_child(\u001b[33mf\u001b[39m\u001b[33m\"\u001b[39m\u001b[33mseq:step:\u001b[39m\u001b[38;5;132;01m{\u001b[39;00mi\u001b[38;5;250m \u001b[39m+\u001b[38;5;250m \u001b[39m\u001b[32m1\u001b[39m\u001b[38;5;132;01m}\u001b[39;00m\u001b[33m\"\u001b[39m)\n\u001b[32m    544\u001b[39m )\n\u001b[32m    545\u001b[39m \u001b[38;5;28;01mif\u001b[39;00m i == \u001b[32m0\u001b[39m:\n\u001b[32m--> \u001b[39m\u001b[32m546\u001b[39m     \u001b[38;5;28minput\u001b[39m = \u001b[43mstep\u001b[49m\u001b[43m.\u001b[49m\u001b[43minvoke\u001b[49m\u001b[43m(\u001b[49m\u001b[38;5;28;43minput\u001b[39;49m\u001b[43m,\u001b[49m\u001b[43m \u001b[49m\u001b[43mconfig\u001b[49m\u001b[43m,\u001b[49m\u001b[43m \u001b[49m\u001b[43m*\u001b[49m\u001b[43m*\u001b[49m\u001b[43mkwargs\u001b[49m\u001b[43m)\u001b[49m\n\u001b[32m    547\u001b[39m \u001b[38;5;28;01melse\u001b[39;00m:\n\u001b[32m    548\u001b[39m     \u001b[38;5;28minput\u001b[39m = step.invoke(\u001b[38;5;28minput\u001b[39m, config)\n",
      "\u001b[36mFile \u001b[39m\u001b[32md:\\Balachandar\\Career and Office\\AgenticAI\\Practice\\venv\\Lib\\site-packages\\langgraph\\utils\\runnable.py:310\u001b[39m, in \u001b[36mRunnableCallable.invoke\u001b[39m\u001b[34m(self, input, config, **kwargs)\u001b[39m\n\u001b[32m    308\u001b[39m \u001b[38;5;28;01melse\u001b[39;00m:\n\u001b[32m    309\u001b[39m     context.run(_set_config_context, config)\n\u001b[32m--> \u001b[39m\u001b[32m310\u001b[39m     ret = \u001b[43mcontext\u001b[49m\u001b[43m.\u001b[49m\u001b[43mrun\u001b[49m\u001b[43m(\u001b[49m\u001b[38;5;28;43mself\u001b[39;49m\u001b[43m.\u001b[49m\u001b[43mfunc\u001b[49m\u001b[43m,\u001b[49m\u001b[43m \u001b[49m\u001b[43m*\u001b[49m\u001b[43margs\u001b[49m\u001b[43m,\u001b[49m\u001b[43m \u001b[49m\u001b[43m*\u001b[49m\u001b[43m*\u001b[49m\u001b[43mkwargs\u001b[49m\u001b[43m)\u001b[49m\n\u001b[32m    311\u001b[39m \u001b[38;5;28;01mif\u001b[39;00m \u001b[38;5;28misinstance\u001b[39m(ret, Runnable) \u001b[38;5;129;01mand\u001b[39;00m \u001b[38;5;28mself\u001b[39m.recurse:\n\u001b[32m    312\u001b[39m     \u001b[38;5;28;01mreturn\u001b[39;00m ret.invoke(\u001b[38;5;28minput\u001b[39m, config)\n",
      "\u001b[31mTypeError\u001b[39m: get_user_input() takes 0 positional arguments but 1 was given",
      "During task with name 'get_user_input' and id 'aab59744-d6be-78b1-68ce-105ab36c803d'"
     ]
    }
   ],
   "source": [
    "state = graph.invoke({\n",
    "    \"topic\": \"Rich Dad Poor Dad\",\n",
    "    \"author\": \"Robert Kiyosaki\",\n",
    "    \"question\": \"Is buying a house an asset?\",\n",
    "    \"youtube_summary\": \"\",\n",
    "    \"objective_check\": \"\",\n",
    "    \"validation_feedback\": \"\",\n",
    "    \"recent_fact_checks\": \"\",\n",
    "})"
   ]
  },
  {
   "cell_type": "code",
   "execution_count": null,
   "metadata": {},
   "outputs": [],
   "source": [
    "class State(TypedDict):\n",
    "    topic: str\n",
    "    author: str\n",
    "    question: str\n",
    "    objective_check: bool\n",
    "    youtube_summary: str\n",
    "    recent_fact_checks: str\n",
    "    validation_feedback: str\n",
    "    generate_summary: str\n",
    "    check_author_style: str\n",
    "    final_summary: str "
   ]
  },
  {
   "cell_type": "code",
   "execution_count": null,
   "metadata": {},
   "outputs": [],
   "source": []
  },
  {
   "cell_type": "code",
   "execution_count": null,
   "metadata": {},
   "outputs": [],
   "source": [
    "def youtube_summary_generate(state: State) -> State:\n",
    "    \"\"\"Generate a summary based on the YouTube video content\"\"\"\n",
    "    summary_prompt = f\"\"\"\n",
    "            Summarize the findings based on the following information:\n",
    "            [Author] {state['author']}\n",
    "            [Topic] {state['topic']}\n",
    "            [Question] {state['question']}\n",
    "            [Current Summary] {state['youtube_summary']}\n",
    "            [Recent Fact Checks] {state['recent_fact_checks']}\n",
    "            template = \"\"\"Analyze and respond as {author} would. Rules:\n",
    "            1. Use ONLY provided context\n",
    "            2. Maintain {author}'s style'\n",
    "            3. We have Provided all the required information to answer the question     \n",
    "                Context: {context}\n",
    "                Question: {question}\n",
    "                {author}'s analysis: \"\"\"\n",
    "                \n",
    "        prompt = ChatPromptTemplate.from_template(template)\n",
    "        \n",
    "        rag_chain = (\n",
    "            {\"context\": faiss_index.as_retriever(), \n",
    "             \"question\": RunnablePassthrough(),\n",
    "             \"author\": lambda _: state[\"author\"]}\n",
    "            | prompt \n",
    "            | llm\n",
    "            | StrOutputParser()\n",
    "        )\n",
    "    state[\"youtube_summary\"] = rag_chain.invoke(state[\"question\"])\n",
    "    return state"
   ]
  },
  {
   "cell_type": "code",
   "execution_count": null,
   "metadata": {},
   "outputs": [],
   "source": [
    "def route_input(state: State):\n",
    "    \"\"\"\n",
    "    Route the input to the appropriate tool based on the input status\"\"\"\n",
    "\n",
    "    if state[\"input_status\"] == True:\n",
    "        print(\"Accepted\")\n",
    "        return \"Accepted\"\n",
    "    elif state[\"input_status\"] == False:\n",
    "        print(\"Rejected\")\n",
    "        return \"Rejected\""
   ]
  },
  {
   "cell_type": "code",
   "execution_count": null,
   "metadata": {},
   "outputs": [],
   "source": [
    "def YouTube_search(state: State):\n",
    "    try:\n",
    "        print(\"\\n=== Starting YouTube Search ===\")\n",
    "        \n",
    "        # Step 1: Search YouTube\n",
    "        items = search_yt(f\"{state['topic']} {state['author']}\")\n",
    "        if not items:\n",
    "            print(\"❌ No search results found\")\n",
    "            return state\n",
    "        print(\"✅ Valid search results found\")\n",
    "        \n",
    "        # Step 2: Create FAISS index\n",
    "        faiss_index = create_faiss_index(items)\n",
    "        if not faiss_index:\n",
    "            print(\"❌ FAISS index creation failed\")\n",
    "            return state\n",
    "        print(\"✅ FAISS index created successfully\")\n",
    "        \n",
    "        # Step 3: Setup RAG chain\n",
    "        youtube_summary_generate(state: State)\n",
    "        print(\"✅ YouTube summary generated successfully\")\n",
    "        return state\n",
    "        \n",
    "    except Exception as e:\n",
    "        print(f\"\\n❌ Critical search error: {str(e)}\")\n",
    "        return state"
   ]
  },
  {
   "cell_type": "code",
   "execution_count": 68,
   "metadata": {},
   "outputs": [],
   "source": [
    "def get_author_style(author: str) -> str:\n",
    "    \"\"\"Returns style guidance without hardcoding specific authors\"\"\"\n",
    "    return f\"Maintain {author}'s signature communication style from their public works\"\n",
    "\n",
    "def get_style_keywords(author: str) -> str:\n",
    "    \"\"\"Generic style keywords adaptable to any author\"\"\"\n",
    "    return \"characteristic tone, terminology, and analytical approach\""
   ]
  },
  {
   "cell_type": "code",
   "execution_count": null,
   "metadata": {},
   "outputs": [],
   "source": [
    "# def YouTube_search(state: State) -> State:\n",
    "#     \"\"\"Search YouTube and generate author-style analysis using FAISS+RAG\"\"\"\n",
    "#     try:\n",
    "#         print(\"\\n=== Starting YouTube Search ===\")\n",
    "        \n",
    "#         # Validate inputs\n",
    "#         if not state.get(\"author\") or not state.get(\"topic\"):\n",
    "#             raise ValueError(\"Missing author/topic in state\")\n",
    "\n",
    "#         # 1. YouTube Search with query validation\n",
    "#         query = f\"{state['topic']} {state['author']}\".strip()[:500]\n",
    "#         print(f\"Searching for: {query}\")\n",
    "#         items = search_yt(query)\n",
    "        \n",
    "#         if not items:\n",
    "#             print(\"❌ No search results found\")\n",
    "#             state[\"youtube_summary\"] = \"No relevant videos found\"\n",
    "#             return state\n",
    "#         print(f\"✅ Found {len(items)} videos\")\n",
    "\n",
    "#         # 2. FAISS Index Creation\n",
    "#         faiss_index = create_faiss_index(items)\n",
    "#         if not faiss_index or faiss_index.index.ntotal == 0:\n",
    "#             print(\"❌ FAISS index creation failed - empty index\")\n",
    "#             state[\"youtube_summary\"] = \"Failed to process video content\"\n",
    "#             return state\n",
    "#         print(f\"✅ FAISS index created with {faiss_index.index.ntotal} chunks\")\n",
    "\n",
    "#         # 3. Corrected RAG Chain with proper input handling\n",
    "#         template = \"\"\"Synthesize response as {author} would:\n",
    "\n",
    "#         Context from {author}'s works:\n",
    "#         {context}\n",
    "\n",
    "#         User Question: {question}\n",
    "\n",
    "#         Requirements:\n",
    "#         1. Use ONLY the provided context\n",
    "#         2. Maintain {author}'s communication style\n",
    "#         3. If information is missing, state what's needed\n",
    "\n",
    "#         {author}'s analysis:\"\"\"\n",
    "        \n",
    "#         prompt = ChatPromptTemplate.from_template(template)\n",
    "        \n",
    "#         rag_chain = (\n",
    "#             {\n",
    "#                 \"context\": faiss_index.as_retriever(search_kwargs={\"k\": 3}),\n",
    "#                 \"question\": itemgetter(\"question\"),  # Proper input extraction\n",
    "#                 \"author\": itemgetter(\"author\")       # Direct field access\n",
    "#             }\n",
    "#             | prompt\n",
    "#             | llm\n",
    "#             | StrOutputParser()\n",
    "#         )\n",
    "\n",
    "#         # 4. Generate summary\n",
    "#         state[\"youtube_summary\"] = rag_chain.invoke({\n",
    "#             \"question\": state[\"question\"],\n",
    "#             \"author\": state[\"author\"]\n",
    "#         })\n",
    "        \n",
    "#         print(\"✅ YouTube summary generated successfully\")\n",
    "#         return state\n",
    "\n",
    "#     except Exception as e:\n",
    "#         print(f\"\\n❌ Critical error in YouTube search: {str(e)}\")\n",
    "#         state[\"youtube_summary\"] = f\"Analysis failed: {str(e)}\"\n",
    "#         return state"
   ]
  },
  {
   "cell_type": "code",
   "execution_count": 105,
   "metadata": {},
   "outputs": [],
   "source": [
    "def get_user_input() -> State:\n",
    "    return {\n",
    "        \"topic\": 'Rich Dad and Poor Dad',#'Artificial Intelligence',\n",
    "        \"author\": \"Robert Kiyosaki \",#'Yuval Noah Harari',\n",
    "        \"question\": 'is buying a house  is an  asset ?',#'What are the implications of AI on society?',\n",
    "        #\"question\": 'is suggest buying a house in current economic is a wise choise or what is my best investment option ?',#'What are the implications of AI on society?',\n",
    "        #\"question\": 'Do you like Dogs',\n",
    "        #\"question\": 'What are the implications of AI on society?',\n",
    "        \"youtube_summary\": \"\",\n",
    "        \"objective_check\": \"\",\n",
    "        \"validation_feedback\": \"\",\n",
    "        \"recent_fact_checks\": \"\",\n",
    "    }"
   ]
  },
  {
   "cell_type": "code",
   "execution_count": 81,
   "metadata": {},
   "outputs": [],
   "source": [
    "def validate_user_input(state: State) -> State:\n",
    "    try:\n",
    "        validation_prompt = f\"\"\"Analyze if this question relates to {state['topic']}:\n",
    "        Question: {state['question']}\n",
    "        Author: {state['author']}\n",
    "        Respond ONLY with 'True' or 'False'\"\"\"\n",
    "        \n",
    "        response = llm.invoke(validation_prompt).content.strip().lower()\n",
    "        state[\"objective_check\"] = response == \"true\"\n",
    "        return state\n",
    "    except Exception as e:\n",
    "        print(f\"Validation error: {str(e)}\")\n",
    "        state[\"objective_check\"] = False\n",
    "        return state\n",
    "    \n",
    "def validate_yt_summary(state: State) -> State:\n",
    "    try:\n",
    "        # Structured prompt with clear formatting\n",
    "        feedback_prompt = f\"\"\"Analyze this summary for missing information following these strict guidelines:\n",
    "\n",
    "        [Author] {state['author']}\n",
    "        [Topic] {state['topic']}\n",
    "        [Question] {state['question']}\n",
    "        [Current Summary] {state['youtube_summary']}\n",
    "\n",
    "        --- ANALYSIS REQUIREMENTS ---\n",
    "        1. Check if summary fully answers the question using {state['author']}'s known style/perspective\n",
    "        2. Identify gaps in content or style alignment\n",
    "        3. If missing information or contains \"I need more information\", generate 1 search phrase\n",
    "\n",
    "        --- RESPONSE FORMAT ---\n",
    "        VALID: If summary is sufficient\n",
    "        SEARCH: [topic] - [author] - [specific_concept] (if needs improvement)\n",
    "\n",
    "        --- EXAMPLE ---\n",
    "        Author: Robert Kiyosaki\n",
    "        Topic: Investment strategies\n",
    "        Question: Is buying a house in current economy a good investment?\n",
    "        Response: SEARCH: real estate market analysis - Robert Kiyosaki - 2024 housing market outlook\"\"\"\n",
    "\n",
    "        response = llm.invoke(feedback_prompt).content.strip()\n",
    "        \n",
    "        # Robust parsing with fallback\n",
    "        if \"SEARCH:\" in response.upper():\n",
    "            search_query = response.split(\"SEARCH:\")[-1].strip()\n",
    "            state[\"validation_feedback\"] = search_query\n",
    "        else:\n",
    "            state[\"validation_feedback\"] = \"VALID\"\n",
    "            \n",
    "        return state\n",
    "    \n",
    "    except Exception as e:\n",
    "        print(f\"Summary validation error: {str(e)}\")\n",
    "        state[\"validation_feedback\"] = f\"ERROR: {str(e)}\"\n",
    "        return state\n"
   ]
  },
  {
   "cell_type": "code",
   "execution_count": null,
   "metadata": {},
   "outputs": [],
   "source": [
    "def recent_fact_checks(state: State) -> State:\n",
    "    try:\n",
    "        # Build fact-checking prompt\n",
    "        recent_fact_check_prompt = f\"\"\"\n",
    "        Please check if there are any recent fact available or articles related to this topic use the following search terms:\n",
    "        {state['validation_feedback']}\n",
    "        Provide the latest fact-checking articles or summaries, if available. If not, respond with \"No recent fact checks found available in this topic\" \"\"\"\n",
    "\n",
    "        search = DuckDuckGoSearchRun()\n",
    "        state[\"recent_fact_checks\"] = search.invoke(state['validation_feedback'])\n",
    "        print(\"✅ search is generated successfully\")\n",
    "        return state\n",
    "    except Exception as e:\n",
    "        print(f\"Recent fact check error: {str(e)}\")\n",
    "        state[\"recent_fact_checks\"] = \"No atricle found in this topic\"\n",
    "        return state\n",
    "\n",
    "    "
   ]
  },
  {
   "cell_type": "code",
   "execution_count": null,
   "metadata": {},
   "outputs": [],
   "source": [
    "def recent_Summary_generate(state: State) -> State:\n",
    "    try:\n",
    "        # Build fact-checking prompt\n",
    "        recent_fact_check_prompt = f\"\"\"\n",
    "        Provided the facts \" \"\"\"\n",
    "\n",
    "        search = DuckDuckGoSearchRun()\n",
    "        state[\"recent_fact_checks\"] = search.invoke(state['validation_feedback'])\n",
    "        print(\"✅ search is generated successfully\")\n",
    "        return state\n",
    "    except Exception as e:\n",
    "        print(f\"Recent fact check error: {str(e)}\")\n",
    "        state[\"recent_fact_checks\"] = \"No atricle found in this topic\"\n",
    "        return state"
   ]
  },
  {
   "cell_type": "code",
   "execution_count": 83,
   "metadata": {},
   "outputs": [
    {
     "data": {
      "text/plain": [
       "\"The 10 questions were proposed by citizens and the legislature as part of the state's direct democracy process. We're tracking the results. We're tracking the results. THE REIZ GIRLZ LLC is a California Limited-Liability Company - Ca filed on December 11, 2024. The company's filing status is listed as Active and its File Number is 202464910367. The Registered Agent on file for this company is Melia Thompson Dudiak and is located at 535 Main Street Suite 208, Martinez, CA 94553. Current term opinions can be found in the Opinions section of this site. For case information from previous terms, we recommend starting with the Docket Search located on the California Courts website (external); you can search by case number, case name, or names of the parties associated with the case. Joint Statement of Federal, State and Local California Leaders U.S. Representatives John Garamendi (D-CA-08) and Mark DeSaulnier (D-CA-10), California State Senator Tim Grayson, Martinez Mayor Brianne Zorn, and Contra Costa County Supervisor Shanelle Scales-Preston released a joint statement on the refinery fire. Official Statement (February 4 ... In the State Senate, I'll continue my work to create good paying jobs and ensure economic growth, lower utility and insurance rates, address senseless gun violence and keep violent criminals in ...\""
      ]
     },
     "execution_count": 83,
     "metadata": {},
     "output_type": "execute_result"
    }
   ],
   "source": [
    "search = DuckDuckGoSearchRun()\n",
    "search.invoke(\"state['question']\")"
   ]
  },
  {
   "cell_type": "code",
   "execution_count": 106,
   "metadata": {},
   "outputs": [
    {
     "name": "stdout",
     "output_type": "stream",
     "text": [
      "\n",
      "=== Starting YouTube Search ===\n",
      "✅ Found 3 videos\n",
      "✅ FAISS index created with 408 chunks\n",
      "Summary generation error: argument 'text': 'dict' object cannot be converted to 'PyString'\n",
      "✅ YouTube summary generated successfully\n",
      "✅ search is generated successfully\n",
      "\n",
      "Final Results:\n",
      "Topic: Rich Dad and Poor Dad\n",
      "Question: is buying a house  is an  asset ?\n",
      "Relevance Check: True\n",
      "Summary Validation: real estate investment - Robert Kiyosaki - definition of assets\n",
      "Author Analysis:\n",
      "Failed to generate summary\n",
      "Recent Fact Checks: Robert Kiyosaki, the author of the bestselling book Rich Dad, Poor Dad, has profoundly influenced the way many people view wealth and investing. His teachings Investment Mindset: Kiyosaki promotes an investment mindset, urging readers to recognize income-generating opportunities in various areas, including stocks, real estate, and businesses. In today ... Good debt, on the other hand, is used to acquire assets that generate income or appreciate in value. This is crucial to understanding how Robert Kiyosaki used debt, real estate, and gold to his advantage. Real Estate as a Foundation: Kiyosaki strongly advocates for using debt to invest in real estate. He sees property as a powerful wealth ... Assets and liabilities. Kiyosaki's definition of assets and liabilities is both simple and revolutionary. For him, an asset is something that puts money in your pocket, while a liability takes ... Robert Kiyosaki, a billionaire and author of Rich Dad Poor Dad and a billionaire, frequently talks about the importance of working for assets rather than money. Assets that produce cash flow and increase in value can help people become financially independent and break free from reliance on their jobs in Kiyosaki views. This article will\n"
     ]
    }
   ],
   "source": [
    "if __name__ == \"__main__\":\n",
    "    state = get_user_input()\n",
    "    state = YouTube_search(state)\n",
    "    \n",
    "    if state.get(\"youtube_summary\"):\n",
    "        state = validate_user_input(state)\n",
    "        state = validate_yt_summary(state)\n",
    "        state = recent_fact_checks(state)\n",
    "        \n",
    "        print(\"\\nFinal Results:\")\n",
    "        print(f\"Topic: {state['topic']}\")\n",
    "        print(f\"Question: {state['question']}\")\n",
    "        print(f\"Relevance Check: {state['objective_check']}\")\n",
    "        print(f\"Summary Validation: {state['validation_feedback']}\")\n",
    "        print(f\"Author Analysis:\\n{state['youtube_summary']}\")\n",
    "        print(f\"Recent Fact Checks: {state['recent_fact_checks']}\")\n",
    "    else:\n",
    "        print(\"Processing failed - check error logs\")"
   ]
  },
  {
   "cell_type": "code",
   "execution_count": null,
   "metadata": {},
   "outputs": [
    {
     "name": "stdout",
     "output_type": "stream",
     "text": [
      "['real estate investment analysis - Robert Kiyosaki - asset classification']\n"
     ]
    }
   ],
   "source": [
    "print(state['validation_feedback'])"
   ]
  },
  {
   "cell_type": "code",
   "execution_count": 15,
   "metadata": {},
   "outputs": [],
   "source": [
    "class State(TypedDict):\n",
    "    topic: str\n",
    "    author: str\n",
    "    question: str\n",
    "    youtube_summary: str\n",
    "    objective_check: bool\n",
    "    validation_feedback: str\n",
    "    recent_fact_checks: str\n",
    "    generate_summary: str\n",
    "    check_author_style: str\n",
    "    final_summary: str \n"
   ]
  },
  {
   "cell_type": "code",
   "execution_count": null,
   "metadata": {},
   "outputs": [],
   "source": [
    "from langgraph.graph import START, StateGraph\n",
    "from langgraph.prebuilt import tools_condition\n",
    "from langgraph.prebuilt import ToolNode"
   ]
  },
  {
   "cell_type": "code",
   "execution_count": null,
   "metadata": {},
   "outputs": [],
   "source": [
    "def generate_summary(state: State) -> State:\n",
    "    \"\"\"Generate a final summary based on the YouTube analysis and recent fact checks.\"\"\"\n",
    "    try:\n",
    "        if state[\"validation_feedback\"] == \"VALID\":\n",
    "            \n",
    "        tools = [youtube_summary_generate, recent_fact_checks])]\n",
    "        # Step 4: Generate summary\n",
    "        state[\"youtube_summary\"] = llm_with_tools=llm.bind_tools(tools,parallel_tool_calls=True)\n",
    "\n",
    "            Ensure the summary is concise and captures the essence of the analysis.\"\"\""
   ]
  },
  {
   "cell_type": "code",
   "execution_count": null,
   "metadata": {},
   "outputs": [],
   "source": []
  },
  {
   "cell_type": "code",
   "execution_count": 58,
   "metadata": {},
   "outputs": [
    {
     "data": {
      "text/plain": [
       "'Good debt, on the other hand, is used to acquire assets that generate income or appreciate in value. This is crucial to understanding how Robert Kiyosaki used debt, real estate, and gold to his advantage. Real Estate as a Foundation: Kiyosaki strongly advocates for using debt to invest in real estate. He sees property as a powerful wealth ... Robert Kiyosaki, the renowned author of \"Rich Dad Poor Dad,\" has been a significant influence in the world of financial education, particularly in real estate investing. His strategies have helped many to navigate the complex landscape of property investment, building wealth through smart and calculated decisions. The rest of Robert Kiyosaki\\'s stock portfolio. Beyond cryptocurrencies and precious metals, Kiyosaki diversifies his investments across various asset classes:. Real estate: Kiyosaki and his wife Kim have significant holdings in real estate, which forms the cornerstone of their investment strategy.They appreciate the dual benefits of rental income and property appreciation that real estate ... Here are the top six passive income cash flow assets for 2025 recommended by Robert Kiyosaki through his teachings and books: ... To start real estate investing, Kiyosaki advises focusing on properties that generate positive cash flow from day one. He also emphasizes the importance of leveraging other people\\'s money through mortgages and ... In a recent discussion, Robert Kiyosaki, the author of \"Rich Dad Poor Dad,\" outlined his top five investment assets essential for building wealth. He emphasizes the importance of diversifying one\\'s portfolio with real estate, which provides cash flow and appreciation; gold and silver, which serve as hedges against inflation; Bitcoin, viewed as \"digital gold\" and a store of value; and ...'"
      ]
     },
     "execution_count": 58,
     "metadata": {},
     "output_type": "execute_result"
    }
   ],
   "source": [
    "search = DuckDuckGoSearchRun()\n",
    "search.invoke(\"'real estate investment analysis - Robert Kiyosaki - asset classification'\")"
   ]
  },
  {
   "cell_type": "code",
   "execution_count": 17,
   "metadata": {},
   "outputs": [],
   "source": [
    "os.environ[\"TAVILY_API_KEY\"] = os.environ.get(\"TAVILY_API_KEY\")"
   ]
  },
  {
   "cell_type": "code",
   "execution_count": null,
   "metadata": {},
   "outputs": [],
   "source": [
    "from langchain_tavily import TavilySearch"
   ]
  },
  {
   "cell_type": "code",
   "execution_count": null,
   "metadata": {},
   "outputs": [],
   "source": [
    "search = DuckDuckGoSearchRun()\n",
    "search.invoke(\" is suggest buying a house in current economic is a wise choise or what is my best investment any suggestion by  Robert Kiyosaki?\")"
   ]
  },
  {
   "cell_type": "code",
   "execution_count": 20,
   "metadata": {},
   "outputs": [],
   "source": [
    "from langgraph.prebuilt import create_react_agent"
   ]
  },
  {
   "cell_type": "code",
   "execution_count": 21,
   "metadata": {},
   "outputs": [],
   "source": [
    "# Initialize Tavily Search Tool\n",
    "tavily_search_tool = TavilySearch(\n",
    "    max_results=5,\n",
    "    topic=\"general\",\n",
    ")\n",
    "\n",
    "agent = create_react_agent(llm, [tavily_search_tool])"
   ]
  },
  {
   "cell_type": "code",
   "execution_count": 25,
   "metadata": {},
   "outputs": [
    {
     "name": "stdout",
     "output_type": "stream",
     "text": [
      "================================\u001b[1m Human Message \u001b[0m=================================\n",
      "\n",
      "is suggest buying a house in current economic is a wise choise or what is my best investment any suggestion by  Robert Kiyosaki?\n",
      "==================================\u001b[1m Ai Message \u001b[0m==================================\n",
      "Tool Calls:\n",
      "  tavily_search (call_4jk1fZinqtJB0zcBXA0LRXQu)\n",
      " Call ID: call_4jk1fZinqtJB0zcBXA0LRXQu\n",
      "  Args:\n",
      "    query: Robert Kiyosaki best investment advice\n",
      "    search_depth: advanced\n",
      "=================================\u001b[1m Tool Message \u001b[0m=================================\n",
      "Name: tavily_search\n",
      "\n",
      "{\"query\": \"Robert Kiyosaki best investment advice\", \"follow_up_questions\": null, \"answer\": null, \"images\": [], \"results\": [{\"url\": \"https://www.nasdaq.com/articles/robert-kiyosaki:-3-best-investing-tips-for-beginners\", \"title\": \"Robert Kiyosaki: 3 Best Investing Tips for Beginners - Nasdaq\", \"content\": \"Kiyosaki's favored way to invest is for cash flow. There are many ways to do this. One of the most obvious is to invest in rental real estate.\", \"score\": 0.8051581, \"raw_content\": null}, {\"url\": \"https://finance.yahoo.com/news/robert-kiyosaki-best-basic-money-150136635.html\", \"title\": \"Robert Kiyosaki's Best Basic Money Advice To Get You Started\", \"content\": \"Pay Yourself First. Kiyosaki wrote that he and his wife, Kim, achieved financial success by using a method called “Pay Yourself First.” He\", \"score\": 0.6474505777777778, \"raw_content\": null}, {\"url\": \"https://www.reddit.com/r/FluentInFinance/comments/1iben46/dont_take_investment_advice_from_rich_dad_poor/\", \"title\": \"Don't take investment advice from Rich Dad, Poor Dad Robert Kiyosaki\", \"content\": \"All he says is to invest in assets that cash flow, buy things that appreciate in value, like realestate, and get your money working for you,\", \"score\": 0.5169497433333333, \"raw_content\": null}, {\"url\": \"https://www.nasdaq.com/articles/rich-dad-robert-kiyosaki-shares-the-best-places-to-invest-in-a-down-market\", \"title\": \"'Rich Dad' Robert Kiyosaki Shares the Best Places To Invest in a ...\", \"content\": \"Kiyosaki believes in owning investments that you can touch, rather than strictly financial assets like savings accounts or even stocks.\", \"score\": 0.41700486666666664, \"raw_content\": null}, {\"url\": \"https://www.youtube.com/watch?v=pD538-9vO6c\", \"title\": \"How to Invest in 2024 (The BEST Way to Get Rich) - YouTube\", \"content\": \"But fear not! Robert Kiyosaki, shares some advice on how to invest in 2024. In this motivational video, we break down the BEST way to get\", \"score\": 0.3292202777777778, \"raw_content\": null}], \"response_time\": 2.98}\n",
      "==================================\u001b[1m Ai Message \u001b[0m==================================\n",
      "\n",
      "Robert Kiyosaki's best investment advice includes the following tips:\n",
      "\n",
      "1. **Invest for Cash Flow**: Kiyosaki's favored way to invest is for cash flow. One of the most obvious ways to do this is to invest in rental real estate.\n",
      "\n",
      "2. **Pay Yourself First**: Kiyosaki recommends using a method called \"Pay Yourself First\" to achieve financial success. This approach involves prioritizing saving money for yourself before paying any bills or expenses.\n",
      "\n",
      "3. **Invest in Assets that Cash Flow**: Kiyosaki suggests investing in assets that generate cash flow, like real estate, and buying things that appreciate in value.\n",
      "\n",
      "Based on Kiyosaki's advice, investing in rental real estate for cash flow and focusing on assets that generate income could be wise investment choices. However, whether buying a house in the current economic situation is a wise choice depends on various factors like market conditions, your financial goals, and risk tolerance. It's essential to consider all these aspects before making any investment decisions.\n"
     ]
    }
   ],
   "source": [
    "for step in agent.stream(\n",
    "    {\"messages\": \"is suggest buying a house in current economic is a wise choise or what is my best investment any suggestion by  Robert Kiyosaki?\"},\n",
    "    stream_mode=\"values\",\n",
    "):\n",
    "    step[\"messages\"][-1].pretty_print()"
   ]
  },
  {
   "cell_type": "code",
   "execution_count": null,
   "metadata": {},
   "outputs": [],
   "source": []
  }
 ],
 "metadata": {
  "kernelspec": {
   "display_name": "Python 3",
   "language": "python",
   "name": "python3"
  },
  "language_info": {
   "codemirror_mode": {
    "name": "ipython",
    "version": 3
   },
   "file_extension": ".py",
   "mimetype": "text/x-python",
   "name": "python",
   "nbconvert_exporter": "python",
   "pygments_lexer": "ipython3",
   "version": "3.12.0"
  }
 },
 "nbformat": 4,
 "nbformat_minor": 2
}
