{
 "cells": [
  {
   "cell_type": "code",
   "execution_count": 73,
   "metadata": {},
   "outputs": [],
   "source": [
    "import os\n",
    "from dotenv import load_dotenv\n",
    "from googleapiclient.discovery import build\n",
    "from youtube_transcript_api import YouTubeTranscriptApi\n",
    "from langchain_core.documents import Document\n",
    "from langchain_community.vectorstores import FAISS\n",
    "from langchain_openai import OpenAIEmbeddings,ChatOpenAI\n",
    "load_dotenv()\n",
    "import googleapiclient.discovery"
   ]
  },
  {
   "cell_type": "code",
   "execution_count": 74,
   "metadata": {},
   "outputs": [],
   "source": [
    "os.environ[\"OPENAI_API_KEY\"]=os.getenv(\"OPENAI_API_KEY\")\n",
    "os.environ[\"YOUTUBE_API_KEY\"] = os.getenv(\"YOUTUBE_API_KEY\")"
   ]
  },
  {
   "cell_type": "code",
   "execution_count": 75,
   "metadata": {},
   "outputs": [],
   "source": [
    "embedder=OpenAIEmbeddings(model=\"text-embedding-3-small\")"
   ]
  },
  {
   "cell_type": "code",
   "execution_count": 76,
   "metadata": {},
   "outputs": [],
   "source": [
    "youtube = googleapiclient.discovery.build(serviceName='youtube', version='v3', developerKey=os.getenv(\"YOUTUBE_API_KEY\"))"
   ]
  },
  {
   "cell_type": "code",
   "execution_count": 86,
   "metadata": {},
   "outputs": [],
   "source": [
    "class Search_Result:\n",
    "    def __init__(self, search_result) -> None:\n",
    "        self.video_id = search_result['id']['videoId']\n",
    "        self.title = search_result['snippet']['title']\n",
    "        self.description = search_result['snippet']['description']\n",
    "        self.thumbnails = search_result['snippet']['thumbnails']['default']['url']\n",
    "        self.transcript = self._get_transcript()  # New property\n",
    "        print(self.video_id)\n",
    "        \n",
    "    def _get_transcript(self):\n",
    "        \"\"\"Retrieve YouTube transcript using youtube-transcript-api\"\"\"\n",
    "        try:\n",
    "            transcript_list = YouTubeTranscriptApi.get_transcript(self.video_id)\n",
    "            return \" \".join([item['text'] for item in transcript_list])\n",
    "        except Exception as e:\n",
    "            print(f\"Error getting transcript for {self.video_id}: {str(e)}\")\n",
    "            return \"\""
   ]
  },
  {
   "cell_type": "code",
   "execution_count": 87,
   "metadata": {},
   "outputs": [],
   "source": [
    "class Search_Response:\n",
    "    def __init__(self, search_response) -> None:\n",
    "        self.prev_page_token = search_response.get('prevPageToken')\n",
    "        self.next_page_token = search_response.get('nextPageToken')\n",
    "        self.search_results = [Search_Result(item) for item in search_response.get('items', [])]"
   ]
  },
  {
   "cell_type": "code",
   "execution_count": 88,
   "metadata": {},
   "outputs": [],
   "source": [
    "def search_yt(query, max_results=5, page_token=None):\n",
    "    request = youtube.search().list(\n",
    "        part=\"snippet\",\n",
    "        maxResults=max_results,\n",
    "        pageToken=page_token,\n",
    "        q=query,\n",
    "        videoCaption='closedCaption',\n",
    "        type='video',\n",
    "    )\n",
    "    return Search_Response(request.execute())"
   ]
  },
  {
   "cell_type": "code",
   "execution_count": 89,
   "metadata": {},
   "outputs": [],
   "source": [
    "from langchain_text_splitters import RecursiveCharacterTextSplitter\n",
    "\n",
    "text_splitter = RecursiveCharacterTextSplitter(\n",
    "    chunk_size=1000,\n",
    "    chunk_overlap=200\n",
    ")\n",
    "\n",
    "# Modify your create_faiss_index function:\n",
    "def create_faiss_index(search_response):\n",
    "    documents = []\n",
    "    for result in search_response.search_results:\n",
    "        metadata = {\n",
    "            \"video_id\": result.video_id,\n",
    "            \"title\": result.title\n",
    "        }\n",
    "        # Split text into chunks\n",
    "        chunks = text_splitter.split_text(\n",
    "            f\"Title: {result.title}\\nTranscript: {result.transcript}\"\n",
    "        )\n",
    "        # Create multiple documents per video\n",
    "        for chunk in chunks:\n",
    "            documents.append(Document(page_content=chunk, metadata=metadata))\n",
    "    \n",
    "    return FAISS.from_documents(documents, embedder)"
   ]
  },
  {
   "cell_type": "code",
   "execution_count": 90,
   "metadata": {},
   "outputs": [],
   "source": [
    "#llm=ChatOpenAI(model=\"gpt-4o\")\n",
    "llm = ChatOpenAI(model=\"gpt-3.5-turbo\", temperature=0.7)"
   ]
  },
  {
   "cell_type": "code",
   "execution_count": null,
   "metadata": {},
   "outputs": [
    {
     "name": "stdout",
     "output_type": "stream",
     "text": [
      "nzj7Wg4DAbs\n",
      "Mde2q7GFCrw\n",
      "2w37ty9gGU8\n",
      "\n",
      "Yuval noah-style Answer:\n",
      "------------------------------\n",
      "Yuval Noah Harari would explain the role of storytelling in human evolution by emphasizing the power of fiction and imagination in shaping our collective behavior and cooperation. He would likely argue that storytelling has been crucial in enabling humans to build complex societies, achieve remarkable feats like building the Pyramids or reaching the moon, and create large-scale networks of cooperation.\n",
      "\n",
      "Harari would highlight that storytelling allows humans to believe in shared myths and narratives that bind strangers together, enabling them to work towards common goals. He might point out that while other animals lack the capacity to be persuaded by fictional stories, humans have the unique ability to create and believe in narratives that transcend individual or tribal boundaries.\n",
      "\n",
      "Additionally, Harari might suggest that religion is a prime example of how storytelling has played a significant role in human evolution. He would likely argue that religious beliefs have been instrumental in fostering cooperation, establishing social norms, and providing a sense of purpose and meaning to human societies throughout history.\n",
      "\n",
      "Overall, Harari would stress that storytelling and fiction have been essential tools in shaping human behavior, fostering cooperation, and driving the development of complex civilizations. He would likely view storytelling as a fundamental aspect of what sets humans apart from other animals and has enabled us to become the dominant species on Earth.\n"
     ]
    }
   ],
   "source": [
    "if __name__ == \"__main__\":\n",
    "    # User inputs\n",
    "    topic = input(\"Enter the Topic to be discussed: \")\n",
    "    author = input(\"Enter the Author Name: \")\n",
    "    \n",
    "    # Search YouTube\n",
    "    search_response = search_yt(f\"{topic} {author}\", max_results=3)\n",
    "    \n",
    "    # Create and save FAISS index\n",
    "    faiss_index = create_faiss_index(search_response)\n",
    "    faiss_index.save_local(\"youtube_index\")\n",
    "    \n",
    "    # Define prompt template\n",
    "    template = \"\"\"Act as an expert analyst of {author}'s work. Follow these rules strictly:\n",
    "\n",
    "    1. Base answers ONLY on provided context from verified sources:\n",
    "       - YouTube video transcripts\n",
    "       - Published articles\n",
    "       - Author's own writings\n",
    "\n",
    "    2. Match {author}'s distinctive style:\n",
    "       - Philosophical yet accessible tone\n",
    "       - Historical framework for modern issues\n",
    "       - Balanced skepticism about technology\n",
    "       - Emphasis on collective human narratives\n",
    "\n",
    "    3. If question cannot be answered using context:\n",
    "       - Clearly state \"This is not my area of expertise\" or \"I need more sources\"\n",
    "       - Do NOT fabricate information\n",
    "       - Do NOT speculate or invent answers\n",
    "       - Do NOT use external knowledge\n",
    "\n",
    "    Context provided:\n",
    "    {context}\n",
    "\n",
    "    Question: {question}\n",
    "\n",
    "    Provide a thorough analysis in {author}'s voice:\"\"\"\n",
    "    \n",
    "    prompt = ChatPromptTemplate.from_template(template)\n",
    "    \n",
    "    # Create RAG chain\n",
    "    rag_chain = (\n",
    "        {\"context\": faiss_index.as_retriever(), \n",
    "         \"question\": RunnablePassthrough(),\n",
    "         \"author\": lambda _: author}\n",
    "        | prompt \n",
    "        | llm\n",
    "        | StrOutputParser()\n",
    "    )\n",
    "    \n",
    "  "
   ]
  },
  {
   "cell_type": "code",
   "execution_count": 92,
   "metadata": {},
   "outputs": [
    {
     "name": "stdout",
     "output_type": "stream",
     "text": [
      "\n",
      "Yuval noah-style Answer:\n",
      "------------------------------\n",
      "On the individual level, when comparing Homo sapiens to Neanderthals, it is important to note that Neanderthals actually had bigger brains than us. This may lead one to question how Homo sapiens were able to out-compete Neanderthals and other human-like species. The key to our success lies not in individual abilities but in our collective ability to cooperate in large numbers.\n",
      "\n",
      "Around 70,000 years ago, Homo sapiens developed an incredible ability to cooperate in unlimited numbers. This led to the formation of large networks for political, commercial, and religious purposes. We began trading items over vast distances, spreading ideas, and adopting artistic fashions. Our ability to build these extensive networks of cooperation set us apart from other species.\n",
      "\n",
      "While Neanderthals and chimpanzees could cooperate in smaller groups, Homo sapiens excelled in forming global trade networks with billions of people. This capacity for large-scale cooperation enabled us to thrive and eventually surpass other human-like species. It was not our individual abilities that made us successful, but rather our collective efforts in working together towards common goals.\n"
     ]
    }
   ],
   "source": [
    "# Query handling\n",
    "query = input(\"\\nEnter your question about the topic: \")\n",
    "response = rag_chain.invoke(query)\n",
    "print(f\"\\n{author}-style Answer:\\n{'-'*30}\\n{response}\")"
   ]
  },
  {
   "cell_type": "code",
   "execution_count": null,
   "metadata": {},
   "outputs": [],
   "source": []
  }
 ],
 "metadata": {
  "kernelspec": {
   "display_name": "Python 3",
   "language": "python",
   "name": "python3"
  },
  "language_info": {
   "codemirror_mode": {
    "name": "ipython",
    "version": 3
   },
   "file_extension": ".py",
   "mimetype": "text/x-python",
   "name": "python",
   "nbconvert_exporter": "python",
   "pygments_lexer": "ipython3",
   "version": "3.12.0"
  }
 },
 "nbformat": 4,
 "nbformat_minor": 2
}
